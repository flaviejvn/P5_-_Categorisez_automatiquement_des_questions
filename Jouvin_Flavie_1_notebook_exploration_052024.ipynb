{
 "cells": [
  {
   "cell_type": "markdown",
   "id": "cb75a0fb-aa7d-414a-b130-7cfe4f91bff8",
   "metadata": {},
   "source": [
    "# <font color='orange'>Catégorisez automatiquement des questions</font>"
   ]
  },
  {
   "cell_type": "markdown",
   "id": "74eaec8d-6fb6-4415-bb62-20dffa774760",
   "metadata": {},
   "source": [
    "##  <font color='navy'>Sommaire\n",
    "\n",
    "**Partie 1 : Construction du Bag-of-words**\n",
    "- <a href=\"#C1\">Récupération des données</a>\n",
    "- <a href=\"#C5\">Nettoyage des données texte</a>\n",
    "- <a href=\"#C10\">Exploration des données</a>"
   ]
  },
  {
   "cell_type": "markdown",
   "id": "c6972cb5-2e3e-4a1e-b8ce-a0074c85dfea",
   "metadata": {},
   "source": [
    "# <font color='navy'>PARTIE 1 - Construction du Bag-of-words</font>"
   ]
  },
  {
   "cell_type": "markdown",
   "id": "fa914644-3522-492c-b506-f0e7a39e6c3d",
   "metadata": {},
   "source": [
    "#### <font color='orange'>**Import des librairies python.**</font>"
   ]
  },
  {
   "cell_type": "code",
   "execution_count": 193,
   "id": "d2ce02e5-6ad3-450e-a04c-26755c6a882e",
   "metadata": {},
   "outputs": [],
   "source": [
    "import pandas as pd\n",
    "import matplotlib.pyplot as plt\n",
    "import seaborn as sns"
   ]
  },
  {
   "cell_type": "markdown",
   "id": "495c5fd5-968b-4a99-9d5a-327fcba8fe5f",
   "metadata": {},
   "source": [
    "## <a name=\"C1\"><font color='navy'>Récupération des données</font></a>\n",
    "\n",
    "<font color='navy'>**Dans cette partie, je réalise les étapes suivantes :**</font>\n",
    "- <a href=\"#C2\">Execution de la requête.</a>\n",
    "- <a href=\"#C3\">Scraping des résultats une fois la requête executée.</a>\n",
    "- <a href=\"#C4\">Respect du RGPD.</a>"
   ]
  },
  {
   "cell_type": "markdown",
   "id": "df15a5e4-2ebf-4fef-8fe3-3c61e88dfb86",
   "metadata": {},
   "source": [
    "<a name=\"C2\"><font color='chocolate'>**Execution de la requête.**</font></a>"
   ]
  },
  {
   "cell_type": "markdown",
   "id": "2fc2672c-ac05-4f49-b565-6347d23f7636",
   "metadata": {},
   "source": [
    "*<font color='green'><span style=\"text-decoration: underline;\">Consigne</span> : Stack Overflow propose un outil d’export de données à l’aide de requêtes SQL, \"StackExchange Data Explorer\", qui permet de collecter des données authentiques de la plateforme d’entraide. Tu pourras donc réaliser une extraction de 50 000 questions, le nombre limite par requête.*</font>\n",
    "\n",
    "*<font color='green'>D’autre part, fait attention, la qualité des questions et du remplissage des tags est très inégale, ce qui pourrait biaiser les résultats de ton modèle. Pour limiter ce risque et récupérer des résultats le plus pertinent possible, pense à faire des requêtes avec des contraintes sur certaines données, pour filtrer par exemple :*</font>\n",
    "\n",
    "*<font color='green'>les questions les plus vues,\n",
    "mises en favori ou jugées pertinentes par les internautes, \n",
    "ayant reçu une réponse, \n",
    "et ayant au moins 5 tags.*</font>"
   ]
  },
  {
   "cell_type": "markdown",
   "id": "937e9451-1453-4b4e-bd70-a3cbc0cc11ee",
   "metadata": {},
   "source": [
    "Récupération des données via  ['StackExchangeDataExplorer'](https://data.stackexchange.com/stackoverflow/query/edit/1842326) avec la requête suivante : \n",
    "\n",
    "-----------------------------------------------------------------------------------------------\n",
    "\n",
    "SELECT TOP 50000 Title, Body, Tags, Id, Score, ViewCount, FavoriteCount, AnswerCount\n",
    "\n",
    "FROM Posts \n",
    "\n",
    "<font color = 'blue'>-- PostTypeId = 1 correspond aux questions.\n",
    "\n",
    "WHERE PostTypeId = 1 \n",
    "\n",
    "<font color = 'blue'>-- Nombre de vues superieur à 10.\n",
    "\n",
    "AND ViewCount > 10\n",
    "\n",
    "<font color = 'blue'>-- Jugées pertinentes par les internautes avec un score superieur à 5.\n",
    "\n",
    "AND Score > 5 \n",
    "\n",
    "<font color = 'blue'>-- Ayant reçu une réponse.\n",
    "\n",
    "AND AnswerCount > 0 \n",
    "\n",
    "<font color = 'blue'>-- Ayant au moins 5 tags.</font>\n",
    "\n",
    "AND LEN(Tags) - LEN(REPLACE(Tags, '<','')) >= 5\n",
    "\n",
    "-----------------------------------------------------------------------------------------------"
   ]
  },
  {
   "cell_type": "markdown",
   "id": "b8c27f60-367e-4a75-a441-2ac24e73edcd",
   "metadata": {},
   "source": [
    "<a name=\"C3\"><font color='chocolate'>**Scraping des résultats une fois la requête executée.**</font></a>"
   ]
  },
  {
   "cell_type": "markdown",
   "id": "1f49ca3c-1188-4d8d-9816-28332a14a086",
   "metadata": {},
   "source": [
    "<span style=\"text-decoration: underline;\">Le web scraping (ou scraping)</span> *est une technique utilisée pour extraire automatiquement des informations de sites web.*\n",
    "\n",
    "Outils Communément Utilisés pour le Scraping :\n",
    "- Requests : Une bibliothèque Python utilisée pour envoyer des requêtes HTTP.\n",
    "- BeautifulSoup : Une bibliothèque Python pour analyser le code HTML et extraire des données.\n",
    "- Scrapy : Un framework Python spécialisé dans le scraping de données à grande échelle.\n",
    "- Selenium : Un outil permettant d'automatiser les navigateurs web, utile pour scraper des pages qui nécessitent une interaction ou un chargement dynamique du contenu."
   ]
  },
  {
   "cell_type": "markdown",
   "id": "25347b55-e5bb-45b5-b785-cc19f0589735",
   "metadata": {},
   "source": [
    "Aprés vérification des conditions d'utilisation de Stack Overflow, il est ecrit explicitement que le scraping est inerdit : [Acceptable Use Policy - Content Scraping](https://stackoverflow.com/legal/acceptable-use-policy). \n",
    "\n",
    "Je vais donc importer les données en récuperant le fichier .csv qui résulte de la requête réalisée sur le site StackOverFlow."
   ]
  },
  {
   "cell_type": "code",
   "execution_count": 176,
   "id": "6f9c873a-2255-4248-a782-a21ac1020cb9",
   "metadata": {},
   "outputs": [
    {
     "data": {
      "text/html": [
       "<div>\n",
       "<style scoped>\n",
       "    .dataframe tbody tr th:only-of-type {\n",
       "        vertical-align: middle;\n",
       "    }\n",
       "\n",
       "    .dataframe tbody tr th {\n",
       "        vertical-align: top;\n",
       "    }\n",
       "\n",
       "    .dataframe thead th {\n",
       "        text-align: right;\n",
       "    }\n",
       "</style>\n",
       "<table border=\"1\" class=\"dataframe\">\n",
       "  <thead>\n",
       "    <tr style=\"text-align: right;\">\n",
       "      <th></th>\n",
       "      <th>Title</th>\n",
       "      <th>Body</th>\n",
       "      <th>Tags</th>\n",
       "      <th>Id</th>\n",
       "      <th>Score</th>\n",
       "      <th>ViewCount</th>\n",
       "      <th>FavoriteCount</th>\n",
       "      <th>AnswerCount</th>\n",
       "    </tr>\n",
       "  </thead>\n",
       "  <tbody>\n",
       "    <tr>\n",
       "      <th>0</th>\n",
       "      <td>What is the fastest way to get the value of π?</td>\n",
       "      <td>&lt;p&gt;I'm looking for the fastest way to obtain t...</td>\n",
       "      <td>&lt;performance&gt;&lt;algorithm&gt;&lt;language-agnostic&gt;&lt;un...</td>\n",
       "      <td>19</td>\n",
       "      <td>352</td>\n",
       "      <td>70525</td>\n",
       "      <td>0.0</td>\n",
       "      <td>23</td>\n",
       "    </tr>\n",
       "    <tr>\n",
       "      <th>1</th>\n",
       "      <td>How to use the C socket API in C++ on z/OS</td>\n",
       "      <td>&lt;p&gt;I'm having issues getting the C sockets API...</td>\n",
       "      <td>&lt;c++&gt;&lt;c&gt;&lt;sockets&gt;&lt;mainframe&gt;&lt;zos&gt;</td>\n",
       "      <td>25</td>\n",
       "      <td>176</td>\n",
       "      <td>16443</td>\n",
       "      <td>0.0</td>\n",
       "      <td>9</td>\n",
       "    </tr>\n",
       "    <tr>\n",
       "      <th>2</th>\n",
       "      <td>.Net XML comment into API Documentation</td>\n",
       "      <td>&lt;p&gt;Is there an easy way to produce MSDN-style ...</td>\n",
       "      <td>&lt;visual-studio&gt;&lt;xslt&gt;&lt;documentation&gt;&lt;sandcastl...</td>\n",
       "      <td>855</td>\n",
       "      <td>21</td>\n",
       "      <td>3499</td>\n",
       "      <td>0.0</td>\n",
       "      <td>6</td>\n",
       "    </tr>\n",
       "    <tr>\n",
       "      <th>3</th>\n",
       "      <td>Linux shell equivalent on IIS</td>\n",
       "      <td>&lt;p&gt;As a LAMP developer considering moving to a...</td>\n",
       "      <td>&lt;windows&gt;&lt;iis&gt;&lt;shell&gt;&lt;command-line&gt;&lt;terminal&gt;</td>\n",
       "      <td>1584</td>\n",
       "      <td>21</td>\n",
       "      <td>3511</td>\n",
       "      <td>NaN</td>\n",
       "      <td>8</td>\n",
       "    </tr>\n",
       "    <tr>\n",
       "      <th>4</th>\n",
       "      <td>Mechanisms for tracking DB schema changes</td>\n",
       "      <td>&lt;p&gt;What are the best methods for tracking and/...</td>\n",
       "      <td>&lt;php&gt;&lt;mysql&gt;&lt;database&gt;&lt;svn&gt;&lt;migration&gt;</td>\n",
       "      <td>1607</td>\n",
       "      <td>139</td>\n",
       "      <td>45004</td>\n",
       "      <td>0.0</td>\n",
       "      <td>20</td>\n",
       "    </tr>\n",
       "  </tbody>\n",
       "</table>\n",
       "</div>"
      ],
      "text/plain": [
       "                                            Title  \\\n",
       "0  What is the fastest way to get the value of π?   \n",
       "1      How to use the C socket API in C++ on z/OS   \n",
       "2         .Net XML comment into API Documentation   \n",
       "3                   Linux shell equivalent on IIS   \n",
       "4       Mechanisms for tracking DB schema changes   \n",
       "\n",
       "                                                Body  \\\n",
       "0  <p>I'm looking for the fastest way to obtain t...   \n",
       "1  <p>I'm having issues getting the C sockets API...   \n",
       "2  <p>Is there an easy way to produce MSDN-style ...   \n",
       "3  <p>As a LAMP developer considering moving to a...   \n",
       "4  <p>What are the best methods for tracking and/...   \n",
       "\n",
       "                                                Tags    Id  Score  ViewCount  \\\n",
       "0  <performance><algorithm><language-agnostic><un...    19    352      70525   \n",
       "1                  <c++><c><sockets><mainframe><zos>    25    176      16443   \n",
       "2  <visual-studio><xslt><documentation><sandcastl...   855     21       3499   \n",
       "3      <windows><iis><shell><command-line><terminal>  1584     21       3511   \n",
       "4             <php><mysql><database><svn><migration>  1607    139      45004   \n",
       "\n",
       "   FavoriteCount  AnswerCount  \n",
       "0            0.0           23  \n",
       "1            0.0            9  \n",
       "2            0.0            6  \n",
       "3            NaN            8  \n",
       "4            0.0           20  "
      ]
     },
     "execution_count": 176,
     "metadata": {},
     "output_type": "execute_result"
    }
   ],
   "source": [
    "# Import des données.\n",
    "df = pd.read_csv('QueryResults.csv', low_memory=False)\n",
    "pd.set_option('display.max_columns', df.shape[1])\n",
    "\n",
    "df.head(5)"
   ]
  },
  {
   "cell_type": "code",
   "execution_count": 178,
   "id": "d92b9a6f-3d87-4d99-87d0-102baded4a07",
   "metadata": {},
   "outputs": [
    {
     "name": "stdout",
     "output_type": "stream",
     "text": [
      "<class 'pandas.core.frame.DataFrame'>\n",
      "RangeIndex: 50000 entries, 0 to 49999\n",
      "Data columns (total 8 columns):\n",
      " #   Column         Non-Null Count  Dtype  \n",
      "---  ------         --------------  -----  \n",
      " 0   Title          50000 non-null  object \n",
      " 1   Body           50000 non-null  object \n",
      " 2   Tags           50000 non-null  object \n",
      " 3   Id             50000 non-null  int64  \n",
      " 4   Score          50000 non-null  int64  \n",
      " 5   ViewCount      50000 non-null  int64  \n",
      " 6   FavoriteCount  43697 non-null  float64\n",
      " 7   AnswerCount    50000 non-null  int64  \n",
      "dtypes: float64(1), int64(4), object(3)\n",
      "memory usage: 3.1+ MB\n"
     ]
    }
   ],
   "source": [
    "df.info()"
   ]
  },
  {
   "cell_type": "code",
   "execution_count": 180,
   "id": "cefe87a1-a92f-448c-9b46-fa12ca4c37f5",
   "metadata": {},
   "outputs": [
    {
     "data": {
      "text/plain": [
       "int64      4\n",
       "object     3\n",
       "float64    1\n",
       "Name: count, dtype: int64"
      ]
     },
     "execution_count": 180,
     "metadata": {},
     "output_type": "execute_result"
    }
   ],
   "source": [
    "# Typologie de colonnes.\n",
    "df.dtypes.value_counts()"
   ]
  },
  {
   "cell_type": "markdown",
   "id": "d20b5082-6d22-48bf-aba3-20392bdd3db9",
   "metadata": {},
   "source": [
    "**Valeurs manquantes et doublons**"
   ]
  },
  {
   "cell_type": "code",
   "execution_count": 183,
   "id": "3f3545c3-4e00-4e5d-b955-49a528ce5456",
   "metadata": {},
   "outputs": [
    {
     "data": {
      "text/plain": [
       "Title               0\n",
       "Body                0\n",
       "Tags                0\n",
       "Id                  0\n",
       "Score               0\n",
       "ViewCount           0\n",
       "AnswerCount         0\n",
       "FavoriteCount    6303\n",
       "dtype: int64"
      ]
     },
     "execution_count": 183,
     "metadata": {},
     "output_type": "execute_result"
    }
   ],
   "source": [
    "# Nombre de valeurs manquantes par colonnes.\n",
    "df.isna().sum().sort_values()"
   ]
  },
  {
   "cell_type": "code",
   "execution_count": 195,
   "id": "8d6eec42-b92d-4028-9c1b-29d5205fa44f",
   "metadata": {},
   "outputs": [
    {
     "data": {
      "text/plain": [
       "<Axes: >"
      ]
     },
     "execution_count": 195,
     "metadata": {},
     "output_type": "execute_result"
    },
    {
     "data": {
      "image/png": "[encoded data removed]",
      "text/plain": [
       "<Figure size 2000x600 with 2 Axes>"
      ]
     },
     "metadata": {},
     "output_type": "display_data"
    }
   ],
   "source": [
    "fig, ax = plt.subplots(1,1, figsize=(20,6))\n",
    "sns.heatmap(df.isna())"
   ]
  },
  {
   "cell_type": "code",
   "execution_count": 187,
   "id": "58f570d6-2d08-4541-bf28-9030be6a5cca",
   "metadata": {},
   "outputs": [
    {
     "data": {
      "text/plain": [
       "FavoriteCount    12.61\n",
       "dtype: float64"
      ]
     },
     "execution_count": 187,
     "metadata": {},
     "output_type": "execute_result"
    }
   ],
   "source": [
    "# Taux de valeurs manquantes pour les variables ayant des données manquantes.\n",
    "nb_na = (df.isna().sum())\n",
    "var_na = round((nb_na[df.isna().sum() > 0] /df.shape[0])*100,2)\n",
    "var_na.sort_values(ascending=False)"
   ]
  },
  {
   "cell_type": "code",
   "execution_count": 197,
   "id": "a6321243-3684-4c65-b3f9-941d9f9a7dcf",
   "metadata": {},
   "outputs": [
    {
     "data": {
      "text/plain": [
       "0"
      ]
     },
     "execution_count": 197,
     "metadata": {},
     "output_type": "execute_result"
    }
   ],
   "source": [
    "# Nombre de doublons pour une ligne entière de données.\n",
    "df.duplicated().sum()"
   ]
  },
  {
   "cell_type": "code",
   "execution_count": 199,
   "id": "d21db3dc-a91b-4052-979c-e927459a037e",
   "metadata": {},
   "outputs": [
    {
     "data": {
      "text/plain": [
       "Title            49999\n",
       "Body             50000\n",
       "Tags             49256\n",
       "Id               50000\n",
       "Score              844\n",
       "ViewCount        28900\n",
       "FavoriteCount        3\n",
       "AnswerCount         67\n",
       "dtype: int64"
      ]
     },
     "execution_count": 199,
     "metadata": {},
     "output_type": "execute_result"
    }
   ],
   "source": [
    "# Nombre de valeurs uniques par colonnes.\n",
    "df.nunique()"
   ]
  },
  {
   "cell_type": "code",
   "execution_count": 201,
   "id": "53051711-e269-4f7d-b261-ad9adac34462",
   "metadata": {},
   "outputs": [
    {
     "name": "stdout",
     "output_type": "stream",
     "text": [
      "Title : 1\n",
      "Body : 0\n",
      "Tags : 744\n",
      "Id : 0\n",
      "Score : 49156\n",
      "ViewCount : 21100\n",
      "FavoriteCount : 49996\n",
      "AnswerCount : 49933\n"
     ]
    }
   ],
   "source": [
    "# Nombre de doublons par colonnes.\n",
    "for col in df.columns:\n",
    "    n = df.duplicated(subset=col).sum()\n",
    "    print(f\"{col} : {n}\")"
   ]
  },
  {
   "cell_type": "markdown",
   "id": "cc6c6758-c7c7-4341-96b2-46996b84ac3f",
   "metadata": {},
   "source": [
    "<a name=\"C4\"><font color='chocolate'>**Respect du RGPD.**</font></a>"
   ]
  },
  {
   "cell_type": "markdown",
   "id": "3677c420-89b8-4e47-a88a-1cfe34fa8907",
   "metadata": {},
   "source": [
    "[source : cnil](https://www.cnil.fr/fr/cnil-direct/question/quels-sont-les-grands-principes-des-regles-de-protection-des-donnees)"
   ]
  },
  {
   "cell_type": "markdown",
   "id": "ae7493e4-a819-4dbf-955a-8c322a88c483",
   "metadata": {},
   "source": [
    "Description et application des 5 grands principes du Règlement Général sur la Protection des Données (RGPD) dans ce projet\n",
    "\n",
    "- <span style=\"text-decoration: underline;\">Le principe de finalité</span> : *le responsable d'un fichier ne peut enregistrer et utiliser des informations sur des personnes physiques que dans un but bien précis, légal et légitime.*\n",
    " \n",
    "  =>  Les données collectées sont utilisée exclusivement dans le cadre de la création d'un algorithme de machine learning qui permet d'assigner automatiquement plusieurs tags pertinents à une question. Les données ne sont pas déstinées à quelconques autres usages.\n",
    "\n",
    "- <span style=\"text-decoration: underline;\">Le principe de proportionnalité et de pertinence</span> : *les informations enregistrées doivent être pertinentes et strictement nécessaires au regard de la finalité du fichier.*\n",
    "  \n",
    "  => On utilise des filtres sur les données de la requête pour ne récupérer que les variables essentielles au projet. On évite également de récupérer des information non necessaire qui permettrait d'identifier un individu.\n",
    "\n",
    "- <span style=\"text-decoration: underline;\">Le principe d'une durée de conservation limitée</span> : *il n'est pas possible de conserver des informations sur des personnes physiques dans un fichier pour une durée indéfinie. Une durée de conservation précise doit être fixée, en fonction du type d'information enregistrée et de la finalité du fichier.*\n",
    "\n",
    "  => Les données ne contiennent pas d'information permettant l'identification de personnes, cependant, si c'était le cas il serait necessaire de fixer une date maximale de suppression des données en accord avec les contraintes légales ou d'anonymiser les données si elles doivent être conservées plus longtemps.\n",
    "\n",
    "- <span style=\"text-decoration: underline;\">Le principe de sécurité et de confidentialité</span> : *le responsable du fichier doit garantir la sécurité des informations qu'il détient. Il doit en particulier veiller à ce que seules les personnes autorisées aient accès à ces informations.*\n",
    "\n",
    "  => Içi on ne récupère pas de <font color = 'grey'>données à caractère personnel*</font>, si ça avait été le cas, il serait necessaire d'utiliser des données fictives ou d'anonymiser les données permettant d'identifier un individu.\n",
    "\n",
    "- <span style=\"text-decoration: underline;\">Les droits des personnes</span> : *Le propriétaire des données doit avoir donné son accord pour que ses données personnelles soient collectées et utilisées légalement.*\n",
    "\n",
    "  => On s'assure que les utilisateurs aient acceptés que leurs données personnelles soient collectées (par StackOverflow) grâce à l'onglet [Privacy Policy](https://stackoverflow.com/legal/privacy-policy). içi on comprends que pour créer un compte utilisateurs, il faut accpéter les conditions de collecte des données par stackoverflow.\n",
    "\n",
    "*<font color = 'grey'>*Toute information relative à une personne physique susceptible d'être identifiée, directement ou indirectement.</font>*"
   ]
  },
  {
   "cell_type": "markdown",
   "id": "05d487e0-3389-452b-bee7-fa53b4c012d4",
   "metadata": {},
   "source": [
    "## <a name=\"C5\"><font color='navy'>Nettoyage des données texte</a></font>"
   ]
  },
  {
   "cell_type": "code",
   "execution_count": null,
   "id": "38c8c2d3-608f-4abd-ae0d-6226ce3a6f88",
   "metadata": {},
   "outputs": [],
   "source": []
  },
  {
   "cell_type": "code",
   "execution_count": null,
   "id": "0700a5b6-7f8c-4250-af7f-d8aca4be6ada",
   "metadata": {},
   "outputs": [],
   "source": []
  },
  {
   "cell_type": "markdown",
   "id": "234eed96-dec6-425c-8b6a-acf7b0e73d93",
   "metadata": {},
   "source": [
    "## <a name=\"C10\"><font color='navy'>Exploration des données</a></font>"
   ]
  },
  {
   "cell_type": "code",
   "execution_count": null,
   "id": "a4274b01-f16b-4785-b551-cbaa9f358bf1",
   "metadata": {},
   "outputs": [],
   "source": []
  },
  {
   "cell_type": "code",
   "execution_count": null,
   "id": "f825451e-b0c7-4087-92d1-c43234762e88",
   "metadata": {},
   "outputs": [],
   "source": []
  }
 ],
 "metadata": {
  "kernelspec": {
   "display_name": "Python 3 (ipykernel)",
   "language": "python",
   "name": "python3"
  },
  "language_info": {
   "codemirror_mode": {
    "name": "ipython",
    "version": 3
   },
   "file_extension": ".py",
   "mimetype": "text/x-python",
   "name": "python",
   "nbconvert_exporter": "python",
   "pygments_lexer": "ipython3",
   "version": "3.12.4"
  }
 },
 "nbformat": 4,
 "nbformat_minor": 5
}
