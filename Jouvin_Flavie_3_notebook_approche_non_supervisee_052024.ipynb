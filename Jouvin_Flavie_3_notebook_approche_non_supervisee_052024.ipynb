{
 "cells": [
  {
   "cell_type": "markdown",
   "id": "5fa69186-29c0-4b95-be4f-b818bc8cada0",
   "metadata": {},
   "source": [
    "# <font color='orange'>Catégorisez automatiquement des questions</font>"
   ]
  },
  {
   "cell_type": "markdown",
   "id": "6bf51887-94c5-40b9-9511-21706773f036",
   "metadata": {},
   "source": [
    "Demande :\n",
    "- Un notebook de mise en oeuvre d’une approche non supervisée de proposition de mots clés, de type LDA avec visualisation en 2D des topics.\n",
    "- En plus des mesures et scores techniques, mettre en place une méthode d’évaluation propre au contexte et identique pour chaque type de modélisation (du type taux de couverture des tags), avec une séparation du jeu de données pour l’évaluation."
   ]
  },
  {
   "cell_type": "markdown",
   "id": "8997b1d0-f83c-4d50-8fcd-fa6fc022e7da",
   "metadata": {},
   "source": [
    "##  <font color='navy'>Sommaire\n",
    "\n",
    "**Partie 1 : Construction du Bag-of-words**\n",
    "- <a href=\"http://localhost:8888/notebooks/OCR%20-%20IML/P5%20-%20Cat%C3%A9gorisez%20automatiquement%20des%20questions/Jouvin_Flavie_1_notebook_exploration_052024.ipynb?#C15#C1\">Récupération des données</a>\n",
    "- <a href=\"http://localhost:8888/notebooks/OCR%20-%20IML/P5%20-%20Cat%C3%A9gorisez%20automatiquement%20des%20questions/Jouvin_Flavie_1_notebook_exploration_052024.ipynb?#C15#C5\">Nettoyage des données texte</a>\n",
    "- <a href=\"http://localhost:8888/notebooks/OCR%20-%20IML/P5%20-%20Cat%C3%A9gorisez%20automatiquement%20des%20questions/Jouvin_Flavie_1_notebook_exploration_052024.ipynb?#C15#C10\">Vectorisation du texte</a>\n",
    "- <a href=\"http://localhost:8888/notebooks/OCR%20-%20IML/P5%20-%20Cat%C3%A9gorisez%20automatiquement%20des%20questions/Jouvin_Flavie_1_notebook_exploration_052024.ipynb?#C15#C15\">Exploration des données</a>\n",
    "\n",
    "**Partie 2 : Modelisation non supervisée**\n",
    "- <a href=\"#C1\">Préparation des données.</a>\n",
    "    - <a href=\"#C11\"> Transformation des données pour BoW</a>\n",
    "    - <a href=\"#C12\"> Transformation des données pour Tf-idf</a>\n",
    "- <a href=\"#C5\">LDA</a>\n",
    "    - <a href=\"#C51\"> LDA + BoW</a>\n",
    "    - <a href=\"#C52\"> LDA + Tf-idf</a>\n",
    "    - <a href=\"#C53\"> Visualisation avec LDAvis</a>"
   ]
  },
  {
   "cell_type": "markdown",
   "id": "c620fd93-29f1-4908-b4fd-c9c95253e87b",
   "metadata": {},
   "source": [
    "# <font color='navy'>PARTIE 2 - Modélisation non supervisée</font>"
   ]
  },
  {
   "cell_type": "markdown",
   "id": "2e03cb86-def3-4470-b578-f74d5d62c973",
   "metadata": {},
   "source": [
    "#### <font color='orange'>**Import des librairies python.**</font>"
   ]
  },
  {
   "cell_type": "code",
   "execution_count": 7,
   "id": "d30da693-487e-459c-8e60-d1e6563e210c",
   "metadata": {},
   "outputs": [
    {
     "name": "stderr",
     "output_type": "stream",
     "text": [
      "[nltk_data] Downloading package punkt to\n",
      "[nltk_data]     C:\\Users\\jouvi\\AppData\\Roaming\\nltk_data...\n",
      "[nltk_data]   Package punkt is already up-to-date!\n"
     ]
    }
   ],
   "source": [
    "import pandas as pd\n",
    "import numpy as np\n",
    "import tqdm\n",
    "import os\n",
    "#import pickle\n",
    "#from scipy import sparse\n",
    "\n",
    "import nltk\n",
    "nltk.download('punkt')\n",
    "\n",
    "import gensim\n",
    "import gensim.corpora as corpora\n",
    "from gensim.corpora import Dictionary\n",
    "from gensim.models import LdaMulticore, CoherenceModel\n",
    "\n",
    "from sklearn.model_selection import train_test_split\n",
    "from sklearn.feature_extraction.text import CountVectorizer, TfidfVectorizer\n",
    "\n",
    "from pprint import pprint\n",
    "\n",
    "#from sklearn.decomposition import LatentDirichletAllocation, NMF\n"
   ]
  },
  {
   "cell_type": "markdown",
   "id": "aec38a65-0191-4829-a13d-73a7cb51d333",
   "metadata": {},
   "source": [
    "On dispose içi d'un problème de classification multilabel, ce qui signifie qu'une ligne de donnée peut-être associée à plusieurs étiquettes (contrairement à une classification classique où chaque échantillon est associé à un seul label)."
   ]
  },
  {
   "cell_type": "markdown",
   "id": "0ab0bc6e-ca68-49dc-a8b1-f8f953ff4784",
   "metadata": {},
   "source": [
    "## <a name=\"C1\"><font color='navy'>Préparation des données.</font></a>"
   ]
  },
  {
   "cell_type": "code",
   "execution_count": 14,
   "id": "ebea5477-1d25-4135-a480-6303afa2c1fb",
   "metadata": {},
   "outputs": [],
   "source": [
    "# Import des données.\n",
    "df = pd.read_json('cleaned_df_final.json', orient='records', lines=True)\n",
    "\n",
    "# Tokenise les chaînes en listes de mots.\n",
    "data_lemmatized = df['sentence_bow_lem_pos'].apply(nltk.word_tokenize).tolist()\n",
    "\n",
    "# Création du dictionnaire Gensim.\n",
    "id2word = corpora.Dictionary(data_lemmatized)\n",
    "\n",
    "# Filtre les tokens qui apparaissent dans moins de 5 documents et plus de 50% des documents.\n",
    "id2word.filter_extremes(no_below=5, no_above=0.5)"
   ]
  },
  {
   "cell_type": "markdown",
   "id": "cd92e4d3-f821-45f7-a96a-c25823960416",
   "metadata": {},
   "source": [
    "#### <a name=\"C11\"><font color='orange'>**Transformation des données pour BoW**</font></a>"
   ]
  },
  {
   "cell_type": "code",
   "execution_count": 16,
   "id": "9b972747-652a-4749-9400-45d4c637b61f",
   "metadata": {},
   "outputs": [
    {
     "name": "stdout",
     "output_type": "stream",
     "text": [
      "BoW du premier document :\n",
      "[(0, 1), (1, 1), (2, 1), (3, 1), (4, 1), (5, 1), (6, 1), (7, 1), (8, 4), (9, 2), (10, 1), (11, 1), (12, 1), (13, 2), (14, 1), (15, 3), (16, 1), (17, 3), (18, 1), (19, 10), (20, 4), (21, 2), (22, 1), (23, 2), (24, 1), (25, 2), (26, 1), (27, 1), (28, 1), (29, 1), (30, 1), (31, 1), (32, 1), (33, 2), (34, 1), (35, 4), (36, 1), (37, 2), (38, 1), (39, 2)]\n"
     ]
    }
   ],
   "source": [
    "# Conversion de chaque document en BoW (Bag-of-Words).\n",
    "bow_corpus = [id2word.doc2bow(text) for text in data_lemmatized]\n",
    "\n",
    "# Afficher la représentation BoW du premier document pour vérification\n",
    "print(\"BoW du premier document :\")\n",
    "print(bow_corpus[0])"
   ]
  },
  {
   "cell_type": "code",
   "execution_count": 17,
   "id": "c378474e-8af7-4006-883f-4ef768646745",
   "metadata": {},
   "outputs": [
    {
     "name": "stdout",
     "output_type": "stream",
     "text": [
      "Nombre de tokens: 1543\n",
      "Nombre de documents: 2482\n"
     ]
    }
   ],
   "source": [
    "print('Nombre de tokens: %d' % len(id2word))\n",
    "print('Nombre de documents: %d' % len(bow_corpus))"
   ]
  },
  {
   "cell_type": "code",
   "execution_count": 18,
   "id": "46304f8c-1d72-4abb-82d7-befd922d958f",
   "metadata": {},
   "outputs": [],
   "source": [
    "# Division en jeu d'entraînement et de test (70% entraînement, 30% test).\n",
    "# bow_train_corpus, bow_test_corpus = train_test_split(bow_corpus, test_size=0.3, random_state=42)\n",
    "\n",
    "# Division des index plutôt que des corpus.\n",
    "train_indices, test_indices = train_test_split(range(len(bow_corpus)), test_size=0.3, random_state=42)\n",
    "\n",
    "# Utilisation des index pour créer les jeux d'entraînement et de test.\n",
    "bow_train_corpus = [bow_corpus[i] for i in train_indices]\n",
    "bow_test_corpus = [bow_corpus[i] for i in test_indices]"
   ]
  },
  {
   "cell_type": "code",
   "execution_count": 19,
   "id": "3c926dc4-fa2a-4f82-a194-995d5a077871",
   "metadata": {},
   "outputs": [
    {
     "name": "stdout",
     "output_type": "stream",
     "text": [
      "Nombre de documents d'entraînement : 1737\n",
      "Nombre de documents de test : 745\n"
     ]
    }
   ],
   "source": [
    "print(f\"Nombre de documents d'entraînement : {len(bow_train_corpus)}\")\n",
    "print(f\"Nombre de documents de test : {len(bow_test_corpus)}\")"
   ]
  },
  {
   "cell_type": "markdown",
   "id": "8b88d44d-c2ce-4b4d-b7b2-456a10fa3858",
   "metadata": {},
   "source": [
    "#### <a name=\"C12\"><font color='orange'>**Transformation des données pour Tf-idf**</font></a>"
   ]
  },
  {
   "cell_type": "code",
   "execution_count": 21,
   "id": "4fc75b08-353b-47fc-b00a-9060381b1c68",
   "metadata": {},
   "outputs": [],
   "source": [
    "# Convertion de chaque document en chaîne de caractères avant TF-IDF.\n",
    "data_lemmatized_as_texts = [\" \".join(text) for text in data_lemmatized]\n",
    "\n",
    "# Instanciation du TF-IDF Vectorizer.\n",
    "tfidf_vectorizer = TfidfVectorizer()\n",
    "\n",
    "# Transformation des données en matrice TF-IDF.\n",
    "#tfidf_matrix = tfidf_vectorizer.fit_transform(data_lemmatized_as_texts)\n",
    "\n",
    "# Conversion en un format compatible avec Gensim.\n",
    "#tfidf_corpus = gensim.matutils.Sparse2Corpus(tfidf_matrix, documents_columns=False)\n",
    "\n",
    "# Création du vecteur TF-IDF.\n",
    "tfidf_vectorizer = TfidfVectorizer(vocabulary=id2word.token2id)\n",
    "tfidf_matrix = tfidf_vectorizer.fit_transform(data_lemmatized_as_texts)\n",
    "\n",
    "# Conversion en corpus compatible avec Gensim.\n",
    "tfidf_corpus = gensim.matutils.Sparse2Corpus(tfidf_matrix, documents_columns=False)"
   ]
  },
  {
   "cell_type": "code",
   "execution_count": 22,
   "id": "d9ae24d0-e63d-4d2a-a44a-3e287088e598",
   "metadata": {},
   "outputs": [
    {
     "name": "stdout",
     "output_type": "stream",
     "text": [
      "TF-IDF du premier document :\n",
      "[(0, 0.07194389369446637), (1, 0.11281357452043805), (2, 0.06973608060525326), (3, 0.10437604646151229), (4, 0.14157172375060675), (5, 0.06800647164165864), (6, 0.08549182915212897), (7, 0.10385260847318084), (8, 0.32895063232884386), (10, 0.05581589529900243), (11, 0.08241520310312658), (12, 0.08937465558899674), (13, 0.09156207355839578), (14, 0.10437604646151229), (15, 0.1673049380418943), (16, 0.050379244554314744), (18, 0.0792834178257604), (19, 0.6094153323606673), (20, 0.24425913092189602), (21, 0.09767833066601546), (22, 0.09451104781340659), (23, 0.1865023715007644), (24, 0.11202322892786037), (25, 0.11041183257147799), (26, 0.12449763009656273), (27, 0.10235924171726139), (28, 0.10491344442928473), (29, 0.09656209424731911), (30, 0.11731019143824035), (31, 0.10913957098356082), (32, 0.07824216328166972), (33, 0.12364108482251779), (34, 0.11943333537130542), (35, 0.2591531916507775), (36, 0.08863280876716306), (37, 0.18902209562681319), (38, 0.0630101406554193), (39, 0.09982368900795836)]\n"
     ]
    }
   ],
   "source": [
    "# Afficher la représentation TF-IDF du premier document.\n",
    "print(\"TF-IDF du premier document :\")\n",
    "print(tfidf_corpus[0])"
   ]
  },
  {
   "cell_type": "code",
   "execution_count": 23,
   "id": "134ba323-45a2-4433-a77a-65416b98460e",
   "metadata": {},
   "outputs": [
    {
     "name": "stdout",
     "output_type": "stream",
     "text": [
      "Nombre de tokens: 1543\n",
      "Nombre de documents: 2482\n"
     ]
    }
   ],
   "source": [
    "print('Nombre de tokens: %d' % len(id2word))\n",
    "print('Nombre de documents: %d' % len(tfidf_corpus))"
   ]
  },
  {
   "cell_type": "code",
   "execution_count": 24,
   "id": "08a6a290-bee9-4c09-a3c7-2be3c44116bf",
   "metadata": {},
   "outputs": [],
   "source": [
    "# Division en jeu d'entraînement et de test (70% entraînement, 30% test).\n",
    "# tfidf_train_corpus, tfidf_test_corpus = train_test_split(tfidf_corpus, test_size=0.3, random_state=42)\n",
    "\n",
    "# Utilisation des index pour créer les jeux d'entraînement et de test.\n",
    "tfidf_train_corpus = [tfidf_corpus[i] for i in train_indices]\n",
    "tfidf_test_corpus = [tfidf_corpus[i] for i in test_indices]"
   ]
  },
  {
   "cell_type": "code",
   "execution_count": 25,
   "id": "72d111d7-9505-4ba7-9445-3dfee7839d18",
   "metadata": {},
   "outputs": [
    {
     "name": "stdout",
     "output_type": "stream",
     "text": [
      "Nombre de documents d'entraînement : 1737\n",
      "Nombre de documents de test : 745\n"
     ]
    }
   ],
   "source": [
    "print(f\"Nombre de documents d'entraînement : {len(tfidf_train_corpus)}\")\n",
    "print(f\"Nombre de documents de test : {len(tfidf_test_corpus)}\")"
   ]
  },
  {
   "cell_type": "markdown",
   "id": "0e3e50f6-f425-4582-aac8-59aa4f2cc7b6",
   "metadata": {},
   "source": [
    "## <a name=\"C5\"><font color='navy'>Latent Dirichlet Allocation (LDA)</font></a>"
   ]
  },
  {
   "cell_type": "markdown",
   "id": "c262deff-a39a-42cd-ac40-b4ede8eb656e",
   "metadata": {},
   "source": [
    "La LDA est un modèle non supervisé statistique qui permet de représenter des documents comme des mélanges de plusieurs sujets, et chaque sujet est lui-même un mélange de mots.\n",
    "\n",
    "**Objectif du LDA :**\n",
    "\n",
    "L'objectif de LDA est de déterminer à partir des documents existants :\n",
    "- Les sujets présents dans l'ensemble des documents.\n",
    "- La distribution de ces sujets dans chaque document.\n",
    "- La distribution des mots dans chaque sujet.\n",
    "\n",
    "**Comment ça marche :**\n",
    "\n",
    "LDA commence par une hypothèse aléatoire sur la répartition des mots dans les sujets et des sujets dans les documents.\n",
    "Ensuite, il ajuste ces hypothèses en fonction des mots qui apparaissent dans les documents réels.\n",
    "Au fil de nombreuses itérations, le modèle affine ses hypothèses pour mieux correspondre aux données réelles.\n",
    "\n",
    "\n",
    "C'est un outil puissant pour découvrir les thèmes dominants dans des collections de textes, comme des articles de recherche, des journaux, ou des messages sur les réseaux sociaux.\n",
    "\n",
    "Nous utiliserons cette première approche pour détecter les topics associés aux mots de notre variable."
   ]
  },
  {
   "cell_type": "markdown",
   "id": "9df3c052-2fa6-4d34-8b18-374bb10daabf",
   "metadata": {},
   "source": [
    "#### <a name=\"C51\"><font color='orange'>**LDA + BoW**</font></a>"
   ]
  },
  {
   "cell_type": "code",
   "execution_count": 29,
   "id": "533badc7-479f-407f-a865-9542d057ca71",
   "metadata": {},
   "outputs": [],
   "source": [
    "# Construction du modèle LDA.\n",
    "def build_lda_model(corpus, dictionary, num_topics, alpha, eta=None):\n",
    "    return gensim.models.LdaMulticore(corpus=corpus,\n",
    "                                      id2word=dictionary,\n",
    "                                      num_topics=num_topics,\n",
    "                                      random_state=100,\n",
    "                                      chunksize=100,\n",
    "                                      passes=10,\n",
    "                                      alpha=alpha,\n",
    "                                      eta=eta)"
   ]
  },
  {
   "cell_type": "markdown",
   "id": "645d0833-6808-44f5-bcb5-ea032107ab06",
   "metadata": {},
   "source": [
    "- **Calcul du score de cohérence du modèle**\n",
    "\n",
    "Le score de cohérence c_v est une métrique utilisée pour évaluer la cohérence des topics extraits dans les modèles de topic modeling. \n",
    "\n",
    "c_v mesure dans à quel point les mots d'un même topic apparaissent souvent ensemble dans les documents. Si un topic contient des mots qui apparaissent fréquemment dans les mêmes documents, ce topic est considéré comme cohérent.\n",
    "\n",
    "**Comment fonctionne le score de cohérence c_v ?**\n",
    "\n",
    "Le score de cohérence c_v utilise la probabilité conditionnelle pour mesurer la co-occurrence des mots dans les documents et les compare à une distribution empirique basée sur les corpus. \n",
    "\n",
    "Plus concrètement :\n",
    "- Cohérence locale entre les mots : Le score de cohérence mesure la probabilité qu'un groupe de mots apparaisse ensemble dans le même document, ce qui est en lien avec les co-occurrences locales. Si deux mots souvent co-occurrences apparaissent fréquemment dans le même topic, leur probabilité de co-occurrence augmente, ce qui améliore la cohérence du topic.\n",
    "\n",
    "- Cohérence globale : Ensuite, cette mesure est ajustée pour être plus robuste à des occurrences aléatoires dans les documents et peut tenir compte des mots qui n'ont pas de forte connexion sémantique entre eux.\n",
    "\n",
    "Calcul : Le score c_v s'appuie sur des co-occurrences de paires de mots et utilise une mesure de similarité pour vérifier la cohérence entre les termes. \n",
    "\n",
    "Les étapes incluent :\n",
    "- Le calcul de la probabilité de co-occurrence des mots dans le corpus.\n",
    "- L'utilisation de la similarité de pointwise mutual information (PMI) entre les mots dans le corpus, qui mesure à quel point deux mots sont plus susceptibles de co-apparaître ensemble par rapport à leur occurrence individuelle.\n",
    "- Une fonction de smoothing est souvent appliquée pour améliorer la mesure.\n",
    "Le score c_v varie généralement de 0 à 1. Plus le score est élevé, plus les mots d'un topic sont cohérents et sémantiquement proches.\n",
    "\n",
    "**Utilisation de la métrique c_v pour la recherche de tags.**\n",
    "Dans le cadre d'un modèle de topic modeling, cette métrique semble pertinente. Dans notre cas elle permet d'extraire des groupes de mots censés être sémantiquement liés. Le score obtenu nous donne une information sur la qualité des tags extraits. Si les tags représentent des thèmes communs pour les questions, le score de cohérence sera une bonne métrique pour évaluer l'utilisé des topics extraite. \n",
    "\n",
    "- **Taux de couverture des tags** : mesure la proportion de documents pour lesquels le modèle a prédit au moins un tag exprimé en pourcentage du nombre total de documents.\n",
    "\n",
    "- **Score de perplexité** : c'est une mesure utilisée pour évaluer la qualité d'un modèle de langage. Plus la perplexité est faible, meilleur est le modèle dans la prédiction des mots dans un corpus de texte."
   ]
  },
  {
   "cell_type": "code",
   "execution_count": 74,
   "id": "2f5c2fff-3531-4687-bac0-3218575855d8",
   "metadata": {},
   "outputs": [],
   "source": [
    "# Calcul du score de cohérence.\n",
    "def compute_coherence(corpus, dictionary, model, texts):\n",
    "    coherence_model = CoherenceModel(model=model, texts=texts, dictionary=dictionary, coherence='c_v')\n",
    "    return coherence_model.get_coherence()\n",
    "\n",
    "# Calcul du score de perplexité.\n",
    "def calculate_perplexity(model, test_corpus):\n",
    "    return model.log_perplexity(test_corpus)\n",
    "\n",
    "# Calcul du taux de couverture des tags.\n",
    "def calculate_tag_coverage(model, corpus):\n",
    "    covered_docs = sum(1 for doc in corpus if len(model.get_document_topics(doc)) > 0)\n",
    "    return (covered_docs / len(corpus)) * 100"
   ]
  },
  {
   "cell_type": "markdown",
   "id": "c661e690-fb2a-441b-b032-2bb0d68d9c56",
   "metadata": {},
   "source": [
    "**Recherche d'hyperparamètres**"
   ]
  },
  {
   "cell_type": "markdown",
   "id": "c8ea1567-0a29-4e77-a70a-e1a974fff08c",
   "metadata": {},
   "source": [
    "Informations sur les paramètres :\n",
    "\n",
    "**1. corpus :** Il s'agit de la représentation en Bag of Words (BoW) ou TF-IDF des documents (title + body). C'est une liste de documents où chaque document est représenté sous forme de liste de tuples (id_du_mot, fréquence_du_mot).<br>\n",
    "**2. id2word :** C'est le dictionnaire où chaque mot unique est mappé à un identifiant dans le corpus.<br>\n",
    "**3. num_topics :** Nombre de topics à extraire.<br>\n",
    "**4. random_state :** Valeur de graine aléatoire pour rendre les résultats reproductibles.<br>\n",
    "**5. chunksize :** Nombre de documents à traiter en même temps lors de l’entraînement du modèle. C'est une sorte de mini-batch.<br>\n",
    "**6. passes :** Nombre de fois que le modèle doit passer sur l’ensemble du corpus lors de l’entraînement.<br>\n",
    "**7. alpha :** Paramètre de dirichlet qui contrôle la distribution des topics dans chaque document. <br>\n",
    "    - alpha = 'symmetric' : Tous les topics sont traités également, c’est-à-dire qu’il n’y a pas de préférence pour un topic spécifique.<br>\n",
    "    - alpha = 'asymmetric' : Certains topics sont plus représentés dans certains documents que d'autres.<br>\n",
    "    - alpha (float) : Valeur fixe pour contrôler la concentration des topics par document. Des valeurs plus élevées conduisent à moins de diversité de topics par document, et des valeurs plus faibles à plus de diversité.<br>\n",
    "**8. eta :** Paramètre de dirichlet qui contrôle la distribution des mots dans chaque topic.<br>\n",
    "    - eta = 'symmetric' : Tous les mots sont également susceptibles de faire partie de tous les topics.<br>\n",
    "    - eta = 'asymmetric' : Certains mots sont plus représentés dans certains topics.<br>\n",
    "    - eta (float) : Comme pour alpha, une valeur fixe peut être définie pour contrôler la concentration des mots dans chaque topic.<br>"
   ]
  },
  {
   "cell_type": "code",
   "execution_count": 78,
   "id": "010a5dad-726f-4c8d-8ada-663a7baca8d6",
   "metadata": {},
   "outputs": [],
   "source": [
    "# Vérification de l'existance d'un dossier 'results' / sinon le création du fichier.\n",
    "if not os.path.exists('./results'):\n",
    "    os.makedirs('./results')"
   ]
  },
  {
   "cell_type": "code",
   "execution_count": 80,
   "id": "973aca24-04aa-4222-90c7-8909f128d030",
   "metadata": {},
   "outputs": [
    {
     "name": "stderr",
     "output_type": "stream",
     "text": [
      "100%|██████████████████████████████████████████████████████████████████████████████| 600/600 [2:41:29<00:00, 16.15s/it]"
     ]
    },
    {
     "name": "stdout",
     "output_type": "stream",
     "text": [
      "Meilleurs paramètres trouvés :\n",
      "Validation_Set    Corpus 2\n",
      "Topics                   7\n",
      "Alpha                 0.91\n",
      "Eta                   0.91\n",
      "Coherence         0.481352\n",
      "Name: 378, dtype: object\n"
     ]
    },
    {
     "name": "stderr",
     "output_type": "stream",
     "text": [
      "\n"
     ]
    }
   ],
   "source": [
    "# Rechercher des meilleurs hyperparamètres pour le modèle LDA.\n",
    "def grid_search_lda(corpus_sets, dictionary, id2word, data_lemmatized, topics_range, alpha, eta):\n",
    "    model_results = {'Validation_Set': [], 'Topics': [], 'Alpha': [], 'Eta': [], 'Coherence': []}\n",
    "    \n",
    "    pbar = tqdm.tqdm(total=(len(alpha) * len(eta) * len(topics_range) * len(corpus_sets)))\n",
    "    \n",
    "    for i, corpus_set in enumerate(corpus_sets):\n",
    "        for k in topics_range:\n",
    "            for a in alpha:\n",
    "                for e in eta:\n",
    "                    lda_model = build_lda_model(corpus_set, id2word, k, a, e if e != 'symmetric' else None)\n",
    "                    coherence = compute_coherence(corpus_set, id2word, lda_model, data_lemmatized)\n",
    "                    \n",
    "                    # Enregistrer les résultats\n",
    "                    model_results['Validation_Set'].append(f'Corpus {i+1}')\n",
    "                    model_results['Topics'].append(k)\n",
    "                    model_results['Alpha'].append(a)\n",
    "                    model_results['Eta'].append(e)\n",
    "                    model_results['Coherence'].append(coherence)\n",
    "                    \n",
    "                    pbar.update(1)\n",
    "    \n",
    "    pbar.close()\n",
    "    \n",
    "    return pd.DataFrame(model_results)\n",
    "\n",
    "# Plage de topics.\n",
    "min_topics = 5\n",
    "max_topics = 15\n",
    "topics_range = range(min_topics, max_topics)\n",
    "\n",
    "# Alpha et Eta ranges (Beta a été enlevé)\n",
    "alpha = list(np.arange(0.01, 1, 0.3)) + ['symmetric', 'asymmetric']\n",
    "eta = list(np.arange(0.01, 1, 0.3)) + ['symmetric']\n",
    "\n",
    "# Sets de validation (75% et 100% du corpus d'entraînement)\n",
    "corpus_sets = [gensim.utils.ClippedCorpus(bow_train_corpus, int(len(bow_train_corpus) * 0.75)), bow_train_corpus]\n",
    "\n",
    "# Lancer la recherche de grille pour les meilleurs paramètres sans beta\n",
    "grid_results = grid_search_lda(corpus_sets, id2word, id2word, data_lemmatized, topics_range, alpha, eta)\n",
    "\n",
    "# Sauvegarde des résultats dans un fichier CSV\n",
    "grid_results.to_csv('./results/grid_lda_bow_results.csv', index=False)\n",
    "\n",
    "# Charger les résultats et extraire les meilleurs hyperparamètres\n",
    "best_result = grid_results.loc[grid_results['Coherence'].idxmax()]\n",
    "print(f\"Meilleurs paramètres trouvés :\\n{best_result}\")"
   ]
  },
  {
   "cell_type": "code",
   "execution_count": 119,
   "id": "2f6338d3-8176-402d-b87f-b62f0ae23884",
   "metadata": {},
   "outputs": [
    {
     "name": "stdout",
     "output_type": "stream",
     "text": [
      "Meilleurs paramètres trouvés :\n",
      "Validation_Set              Corpus 2\n",
      "Topics                             7\n",
      "Alpha             0.9099999999999999\n",
      "Eta               0.9099999999999999\n",
      "Coherence                   0.481352\n",
      "Name: 378, dtype: object\n"
     ]
    }
   ],
   "source": [
    "# Chemin vers le fichier CSV des résultats de la recherche de grille.\n",
    "csv_file_path = './results/grid_lda_bow_results.csv'\n",
    "\n",
    "# Chargement des résultats depuis le fichier CSV.\n",
    "grid_results = pd.read_csv('./results/grid_lda_bow_results.csv')\n",
    "\n",
    "# Extraction des meilleurs hyperparamètres.\n",
    "best_result = grid_results.loc[grid_results['Coherence'].idxmax()]\n",
    "\n",
    "# Affichage des meilleurs hyperparamètres.\n",
    "print(f\"Meilleurs paramètres trouvés :\\n{best_result}\")\n",
    "\n",
    "bow_best_num_topics = int(best_result['Topics'])\n",
    "bow_best_alpha = best_result['Alpha']\n",
    "bow_best_eta = best_result['Eta']\n",
    "\n",
    "# Vérification et conversion si nécessaire.\n",
    "if isinstance(bow_best_alpha, str):\n",
    "    bow_best_alpha = bow_best_alpha  # 'symmetric' ou 'asymmetric', pas de conversion nécessaire.\n",
    "else:\n",
    "    bow_best_alpha = float(bow_best_alpha)  # Conversion en float si c'est un nombre.\n",
    "\n",
    "if isinstance(bow_best_eta, str):\n",
    "    bow_best_eta = bow_best_eta  # 'symmetric', pas de conversion nécessaire.\n",
    "else:\n",
    "    bow_best_eta = float(bow_best_eta)  # Conversion en float si c'est un nombre."
   ]
  },
  {
   "cell_type": "markdown",
   "id": "d4dfb575-0bf1-42bf-ad24-9641b4b28764",
   "metadata": {},
   "source": [
    "**Modèle final**"
   ]
  },
  {
   "cell_type": "code",
   "execution_count": 83,
   "id": "3f29f6e8-c6d8-49b2-8575-3af37d23d5c8",
   "metadata": {},
   "outputs": [],
   "source": [
    "# Création du modèle final avec les meilleurs paramètres.\n",
    "bow_best_num_topics = int(best_result['Topics'])\n",
    "bow_best_alpha = best_result['Alpha']\n",
    "bow_best_eta = best_result['Eta']\n",
    "\n",
    "final_lda_model = build_lda_model(bow_train_corpus, id2word, bow_best_num_topics, bow_best_alpha, bow_best_eta)"
   ]
  },
  {
   "cell_type": "code",
   "execution_count": 149,
   "id": "3f10141b-d84f-4cd2-bdb8-4763380c2743",
   "metadata": {},
   "outputs": [
    {
     "name": "stdout",
     "output_type": "stream",
     "text": [
      "Score de cohérence sur les données d'entraînement : 0.479551149963347\n",
      "Score de perplexité sur les données de test : -6.7707716583132065\n",
      "Taux de couverture des tags sur les données de test : 100.0%\n"
     ]
    }
   ],
   "source": [
    "# Évaluation du modèle final.\n",
    "\n",
    "# Calcul et affichage du score de cohérence sur les données d'entraînement.\n",
    "bow_lda_coherence_train = compute_coherence(bow_train_corpus, id2word, final_lda_model, data_lemmatized)\n",
    "print(f\"Score de cohérence sur les données d'entraînement : {bow_lda_coherence_train}\")\n",
    "\n",
    "# Calcul et affichage du score de perplexité sur les données de test.\n",
    "bow_lda_perplexity_test = calculate_perplexity(final_lda_model, bow_test_corpus)\n",
    "print(f\"Score de perplexité sur les données de test : {bow_lda_perplexity_test}\")\n",
    "\n",
    "# Calcul et affichage du taux de couverture des tags sur les données de test.\n",
    "bow_lda_coverage_test = calculate_tag_coverage(final_lda_model, bow_test_corpus)\n",
    "print(f\"Taux de couverture des tags sur les données de test : {bow_lda_coverage_test}%\")"
   ]
  },
  {
   "cell_type": "code",
   "execution_count": 121,
   "id": "87a3b6ad-c832-41c2-aeb2-a8d9cea6b209",
   "metadata": {},
   "outputs": [],
   "source": [
    "# Affichage des topics du modèle final\n",
    "# pprint(final_lda_model.print_topics())"
   ]
  },
  {
   "cell_type": "code",
   "execution_count": 115,
   "id": "8d8718c5-5580-463a-8b04-84d016e222fe",
   "metadata": {},
   "outputs": [
    {
     "name": "stdout",
     "output_type": "stream",
     "text": [
      "['Topic 0: test model image array code number data function lt import',\n",
      " 'Topic 1: gt user const new return error function component service string',\n",
      " 'Topic 2: int code template c text ltlt function return type main',\n",
      " 'Topic 3: file error line info name server import docker command version',\n",
      " 'Topic 4: class new public method void spring test context static child',\n",
      " 'Topic 5: library path app project version gradle android source class file',\n",
      " 'Topic 6: i string d null data var value return private type']\n"
     ]
    }
   ],
   "source": [
    "# Affichage des topics du modèle LDA.\n",
    "topics = final_lda_model.print_topics()\n",
    "\n",
    "# Fonction pour supprimer les poids et garder seulement les mots, avec le numéro de topic.\n",
    "def display_topics_with_numbers(topics):\n",
    "    clean_topics = []\n",
    "    for topic in topics:\n",
    "        topic_num = topic[0]  # Numéro du topic\n",
    "        # Extraction de la liste de mots sans les coefficients.\n",
    "        words = [word.split('*')[1].replace('\"', '').strip() for word in topic[1].split(' + ')]\n",
    "        clean_topic = f\"Topic {topic_num}: \" + ' '.join(words)\n",
    "        clean_topics.append(clean_topic)\n",
    "    \n",
    "    return clean_topics\n",
    "\n",
    "# Appel de la fonction pour formater et afficher les topics avec les numéros.\n",
    "clean_topics = display_topics_with_numbers(topics)\n",
    "pprint(clean_topics)"
   ]
  },
  {
   "cell_type": "markdown",
   "id": "38618cff-ab61-4d45-ab73-33c2a087e230",
   "metadata": {},
   "source": [
    "#### <a name=\"C52\"><font color='orange'>**LDA + Tf-Idf**</font></a>"
   ]
  },
  {
   "cell_type": "markdown",
   "id": "fee97588-0677-43af-94b4-2c619662d05a",
   "metadata": {},
   "source": [
    "Utilisation de TF-IDF pour réduire l'impact des mots fréquents."
   ]
  },
  {
   "cell_type": "code",
   "execution_count": 124,
   "id": "d1fed872-9f84-4558-9743-ec9388f23165",
   "metadata": {},
   "outputs": [
    {
     "name": "stderr",
     "output_type": "stream",
     "text": [
      "100%|██████████████████████████████████████████████████████████████████████████████| 600/600 [8:54:01<00:00, 53.40s/it]"
     ]
    },
    {
     "name": "stdout",
     "output_type": "stream",
     "text": [
      "Meilleurs paramètres trouvés :\n",
      "Validation_Set      Corpus 2\n",
      "Topics                     5\n",
      "Alpha             asymmetric\n",
      "Eta                     0.91\n",
      "Coherence           0.638004\n",
      "Name: 328, dtype: object\n"
     ]
    },
    {
     "name": "stderr",
     "output_type": "stream",
     "text": [
      "\n"
     ]
    }
   ],
   "source": [
    "# Rechercher des meilleurs hyperparamètres pour le modèle LDA avec tf-Idf.\n",
    "def grid_search_lda(corpus_sets, dictionary, id2word, data_lemmatized, topics_range, alpha, eta):\n",
    "    model_results = {'Validation_Set': [], 'Topics': [], 'Alpha': [], 'Eta': [], 'Coherence': []}\n",
    "    \n",
    "    pbar = tqdm.tqdm(total=(len(alpha) * len(eta) * len(topics_range) * len(corpus_sets)))\n",
    "    \n",
    "    for i, corpus_set in enumerate(corpus_sets):\n",
    "        for k in topics_range:\n",
    "            for a in alpha:\n",
    "                for e in eta:\n",
    "                    lda_model = build_lda_model(corpus_set, id2word, k, a, e if e != 'symmetric' else None)\n",
    "                    coherence = compute_coherence(corpus_set, id2word, lda_model, data_lemmatized)\n",
    "                    \n",
    "                    # Enregistrer les résultats\n",
    "                    model_results['Validation_Set'].append(f'Corpus {i+1}')\n",
    "                    model_results['Topics'].append(k)\n",
    "                    model_results['Alpha'].append(a)\n",
    "                    model_results['Eta'].append(e)\n",
    "                    model_results['Coherence'].append(coherence)\n",
    "                    \n",
    "                    pbar.update(1)\n",
    "    \n",
    "    pbar.close()\n",
    "    \n",
    "    return pd.DataFrame(model_results)\n",
    "\n",
    "# Plage de topics.\n",
    "min_topics = 5\n",
    "max_topics = 15\n",
    "topics_range = range(min_topics, max_topics)\n",
    "\n",
    "# Alpha et Eta ranges (Beta a été enlevé)\n",
    "alpha = list(np.arange(0.01, 1, 0.3)) + ['symmetric', 'asymmetric']\n",
    "eta = list(np.arange(0.01, 1, 0.3)) + ['symmetric']\n",
    "\n",
    "# Sets de validation (75% et 100% du corpus d'entraînement)\n",
    "corpus_sets = [gensim.utils.ClippedCorpus(tfidf_train_corpus, int(len(tfidf_train_corpus) * 0.75)), tfidf_train_corpus]\n",
    "\n",
    "# Lancer la recherche de grille pour les meilleurs paramètres sans beta\n",
    "grid_results = grid_search_lda(corpus_sets, id2word, id2word, data_lemmatized, topics_range, alpha, eta)\n",
    "\n",
    "# Sauvegarde des résultats dans un fichier CSV\n",
    "grid_results.to_csv('./results/grid_lda_tfidf_results.csv', index=False)\n",
    "\n",
    "# Charger les résultats et extraire les meilleurs hyperparamètres\n",
    "best_result = grid_results.loc[grid_results['Coherence'].idxmax()]\n",
    "print(f\"Meilleurs paramètres trouvés :\\n{best_result}\")"
   ]
  },
  {
   "cell_type": "code",
   "execution_count": 131,
   "id": "53d34d98-8472-44b8-865a-cfcec4bea080",
   "metadata": {},
   "outputs": [
    {
     "name": "stdout",
     "output_type": "stream",
     "text": [
      "Meilleurs paramètres trouvés :\n",
      "Validation_Set              Corpus 2\n",
      "Topics                             5\n",
      "Alpha                     asymmetric\n",
      "Eta               0.9099999999999999\n",
      "Coherence                   0.638004\n",
      "Name: 328, dtype: object\n"
     ]
    }
   ],
   "source": [
    "# Chemin vers le fichier CSV des résultats de la recherche de grille.\n",
    "csv_file_path = './results/grid_lda_tfidf_results.csv'\n",
    "\n",
    "# Chargement des résultats depuis le fichier CSV.\n",
    "grid_results = pd.read_csv('./results/grid_lda_tfidf_results.csv')\n",
    "\n",
    "# Extraction des meilleurs hyperparamètres.\n",
    "best_result = grid_results.loc[grid_results['Coherence'].idxmax()]\n",
    "\n",
    "# Affichage des meilleurs hyperparamètres.\n",
    "print(f\"Meilleurs paramètres trouvés :\\n{best_result}\")\n",
    "\n",
    "tfidf_best_num_topics = int(best_result['Topics'])\n",
    "tfidf_best_alpha = best_result['Alpha']\n",
    "tfidf_best_eta = best_result['Eta']\n",
    "\n",
    "# Vérification et conversion si nécessaire.\n",
    "if isinstance(tfidf_best_alpha, str):\n",
    "    tfidf_best_alpha = tfidf_best_alpha  # 'symmetric' ou 'asymmetric', pas de conversion nécessaire.\n",
    "else:\n",
    "    tfidf_best_alpha = float(tfidf_best_alpha)  # Conversion en float si c'est un nombre.\n",
    "\n",
    "if isinstance(tfidf_best_eta, str):\n",
    "    tfidf_best_eta = tfidf_best_eta  # 'symmetric', pas de conversion nécessaire.\n",
    "else:\n",
    "    tfidf_best_eta = float(tfidf_best_eta)  # Conversion en float si c'est un nombre."
   ]
  },
  {
   "cell_type": "code",
   "execution_count": 137,
   "id": "f71b56e3-ae4e-4686-9096-f1f8cb3cf246",
   "metadata": {},
   "outputs": [],
   "source": [
    "# Création du modèle final avec les meilleurs paramètres.\n",
    "tfidf_best_num_topics = int(best_result['Topics'])\n",
    "tfidf_best_alpha = best_result['Alpha']\n",
    "tfidf_best_eta = float(best_result['Eta'])\n",
    "\n",
    "final_lda_tfidf_model = build_lda_model(tfidf_train_corpus, id2word, tfidf_best_num_topics, tfidf_best_alpha, tfidf_best_eta)"
   ]
  },
  {
   "cell_type": "code",
   "execution_count": 138,
   "id": "2abbea25-6a2c-48e9-a839-ed566a70b83d",
   "metadata": {},
   "outputs": [
    {
     "name": "stdout",
     "output_type": "stream",
     "text": [
      "Score de cohérence sur les données d'entraînement : 0.6323754193599684\n",
      "Score de perplexité sur les données de test : -7.783402678648338\n",
      "Taux de couverture des tags sur les données de test : 100.0%\n"
     ]
    }
   ],
   "source": [
    "# Évaluation du modèle final.\n",
    "\n",
    "# Calcul et affichage du score de cohérence sur les données d'entraînement.\n",
    "tfidf_lda_coherence_train = compute_coherence(tfidf_train_corpus, id2word, final_lda_tfidf_model , data_lemmatized)\n",
    "print(f\"Score de cohérence sur les données d'entraînement : {tfidf_lda_coherence_train}\")\n",
    "\n",
    "# Calcul et affichage du score de perplexité sur les données de test.\n",
    "tfidf_lda_perplexity_test = calculate_perplexity(final_lda_tfidf_model , tfidf_test_corpus)\n",
    "print(f\"Score de perplexité sur les données de test : {tfidf_lda_perplexity_test}\")\n",
    "\n",
    "# Calcul et affichage du taux de couverture des tags sur les données de test.\n",
    "tfidf_lda_coverage_test = calculate_tag_coverage(final_lda_tfidf_model , tfidf_test_corpus)\n",
    "print(f\"Taux de couverture des tags sur les données de test : {tfidf_lda_coverage_test}%\")"
   ]
  },
  {
   "cell_type": "code",
   "execution_count": 141,
   "id": "9266b9e5-ddd2-4a15-93ba-b90c62cf947e",
   "metadata": {},
   "outputs": [
    {
     "name": "stdout",
     "output_type": "stream",
     "text": [
      "['Topic 0: gt error file new code app return class value data',\n",
      " 'Topic 1: ng angularcompiler enable browsermodule angularcli zonejs '\n",
      " 'androidlayoutwidthmatchparent bootstrap angularplatformbrowserdynamic '\n",
      " 'appmodule',\n",
      " 'Topic 2: ltdependencygt ltgroupidgtorgspringframeworkbootltgroupidgt '\n",
      " 'ltexecutiongt ltgoalsgt ltconfigurationgt ltplugingt ltversiongtltversiongt '\n",
      " 'ltpropertiesgt ltdependenciesgt ltpluginsgt',\n",
      " 'Topic 3: pddataframe intent max double ltstringgtinclude environment num '\n",
      " 'drop icon mac',\n",
      " 'Topic 4: max intent pddataframe double ltstringgtinclude environment num '\n",
      " 'drop icon mac']\n"
     ]
    }
   ],
   "source": [
    "# Affichage des topics du modèle LDA.\n",
    "topics = final_lda_tfidf_model .print_topics()\n",
    "\n",
    "# Fonction pour supprimer les poids et garder seulement les mots, avec le numéro de topic.\n",
    "def display_topics_with_numbers(topics):\n",
    "    clean_topics = []\n",
    "    for topic in topics:\n",
    "        topic_num = topic[0]  # Numéro du topic\n",
    "        # Extraction de la liste de mots sans les coefficients.\n",
    "        words = [word.split('*')[1].replace('\"', '').strip() for word in topic[1].split(' + ')]\n",
    "        clean_topic = f\"Topic {topic_num}: \" + ' '.join(words)\n",
    "        clean_topics.append(clean_topic)\n",
    "    \n",
    "    return clean_topics\n",
    "\n",
    "# Appel de la fonction pour formater et afficher les topics.\n",
    "clean_topics = display_topics_with_numbers(topics)\n",
    "pprint(clean_topics)"
   ]
  },
  {
   "cell_type": "markdown",
   "id": "403697ed-dc9f-4acd-a10d-fb065db0cf66",
   "metadata": {},
   "source": [
    "**Comparaison des résultats**"
   ]
  },
  {
   "cell_type": "code",
   "execution_count": 151,
   "id": "1faace67-44d9-4122-b38b-01cf876570a9",
   "metadata": {},
   "outputs": [
    {
     "data": {
      "text/html": [
       "<div>\n",
       "<style scoped>\n",
       "    .dataframe tbody tr th:only-of-type {\n",
       "        vertical-align: middle;\n",
       "    }\n",
       "\n",
       "    .dataframe tbody tr th {\n",
       "        vertical-align: top;\n",
       "    }\n",
       "\n",
       "    .dataframe thead th {\n",
       "        text-align: right;\n",
       "    }\n",
       "</style>\n",
       "<table border=\"1\" class=\"dataframe\">\n",
       "  <thead>\n",
       "    <tr style=\"text-align: right;\">\n",
       "      <th></th>\n",
       "      <th>Metric</th>\n",
       "      <th>LDA + BoW</th>\n",
       "      <th>LDA + TF-IDF</th>\n",
       "    </tr>\n",
       "  </thead>\n",
       "  <tbody>\n",
       "    <tr>\n",
       "      <th>0</th>\n",
       "      <td>Coherence</td>\n",
       "      <td>0.479551</td>\n",
       "      <td>0.632375</td>\n",
       "    </tr>\n",
       "    <tr>\n",
       "      <th>1</th>\n",
       "      <td>Perplexity</td>\n",
       "      <td>-6.770772</td>\n",
       "      <td>-7.783403</td>\n",
       "    </tr>\n",
       "    <tr>\n",
       "      <th>2</th>\n",
       "      <td>Topic Coverage</td>\n",
       "      <td>100.000000</td>\n",
       "      <td>100.000000</td>\n",
       "    </tr>\n",
       "  </tbody>\n",
       "</table>\n",
       "</div>"
      ],
      "text/plain": [
       "           Metric   LDA + BoW  LDA + TF-IDF\n",
       "0       Coherence    0.479551      0.632375\n",
       "1      Perplexity   -6.770772     -7.783403\n",
       "2  Topic Coverage  100.000000    100.000000"
      ]
     },
     "execution_count": 151,
     "metadata": {},
     "output_type": "execute_result"
    }
   ],
   "source": [
    "# Synthèse des résultats LDA avec Bow et tf-Idf.\n",
    "results = {\n",
    "    'Metric': ['Coherence', 'Perplexity', 'Topic Coverage'],\n",
    "    'LDA + BoW': [bow_lda_coherence_train, bow_lda_perplexity_test, bow_lda_coverage_test],\n",
    "    'LDA + TF-IDF': [tfidf_lda_coherence_train, tfidf_lda_perplexity_test, tfidf_lda_coverage_test]\n",
    "}\n",
    "\n",
    "results_df = pd.DataFrame(results)\n",
    "results_df"
   ]
  },
  {
   "cell_type": "markdown",
   "id": "997e14d9-436c-4602-8498-b3511293e174",
   "metadata": {},
   "source": [
    "#### <a name=\"C53\"><font color='orange'>**Visualisation avec LDAVis.**</font></a>"
   ]
  },
  {
   "cell_type": "code",
   "execution_count": 155,
   "id": "60843acc-4128-4061-82ce-1f5af60a345d",
   "metadata": {},
   "outputs": [],
   "source": [
    "import pyLDAvis\n",
    "import pyLDAvis.gensim_models as gensimvis\n",
    "import gensim"
   ]
  },
  {
   "cell_type": "code",
   "execution_count": 167,
   "id": "497baba6-5ce8-4e3e-aaf7-a1e410187904",
   "metadata": {},
   "outputs": [],
   "source": [
    "# Préparation des données pour pyLDAvis.\n",
    "lda_display = gensimvis.prepare(final_lda_model, tfidf_train_corpus, id2word, sort_topics=False)"
   ]
  },
  {
   "cell_type": "code",
   "execution_count": 169,
   "id": "e293c5f0-db36-457f-a255-b5e8d2fcbdd2",
   "metadata": {},
   "outputs": [
    {
     "data": {
      "text/html": [
       "\n",
       "<link rel=\"stylesheet\" type=\"text/css\" href=\"https://cdn.jsdelivr.net/gh/bmabey/pyLDAvis@3.4.0/pyLDAvis/js/ldavis.v1.0.0.css\">\n",
       "\n",
       "\n",
       "<div id=\"ldavis_el4406420902650392485307789442\" style=\"background-color:white;\"></div>\n",
       "<script type=\"text/javascript\">\n",
       "\n",
       "var ldavis_el4406420902650392485307789442_data = {\"mdsDat\": {\"x\": [-0.005762871460107381, -0.08391167599374066, -0.03695175877282553, 0.13020297018931282, -0.04280077508360682, 0.17767014696504432, -0.13844603584407694], \"y\": [0.13081346102229197, -0.12338462525723201, 0.1444938119566389, -0.034657539229974686, -0.03139086295087994, -0.04106160124740345, -0.04481264429344092], \"topics\": [1, 2, 3, 4, 5, 6, 7], \"cluster\": [1, 1, 1, 1, 1, 1, 1], \"Freq\": [14.109480726315535, 15.119041360541486, 14.484976571589977, 14.646418236651288, 13.995781968773588, 13.79235598661781, 13.851945149510318]}, \"tinfo\": {\"Term\": [\"gt\", \"file\", \"library\", \"path\", \"user\", \"gradle\", \"class\", \"line\", \"i\", \"project\", \"app\", \"public\", \"android\", \"version\", \"string\", \"d\", \"null\", \"const\", \"error\", \"int\", \"new\", \"info\", \"source\", \"template\", \"var\", \"ltlt\", \"model\", \"data\", \"void\", \"spring\", \"layer\", \"training\", \"shape\", \"kera\", \"panda\", \"npm\", \"plot\", \"num\", \"numpy\", \"batch\", \"total\", \"tensor\", \"none\", \"train\", \"df\", \"prediction\", \"max\", \"axis\", \"model\", \"webpack\", \"kernelsize\", \"deprecated\", \"polygon\", \"min\", \"err\", \"loss\", \"dataframe\", \"vector\", \"accuracy\", \"tensorflow\", \"global\", \"array\", \"number\", \"element\", \"input\", \"lt\", \"image\", \"x\", \"label\", \"test\", \"variable\", \"output\", \"import\", \"word\", \"function\", \"data\", \"code\", \"value\", \"size\", \"way\", \"problem\", \"time\", \"example\", \"error\", \"return\", \"token\", \"user\", \"email\", \"login\", \"route\", \"auth\", \"accesstoken\", \"gt\", \"const\", \"account\", \"authentication\", \"action\", \"router\", \"async\", \"thissetstate\", \"password\", \"admin\", \"dispatch\", \"username\", \"identity\", \"undefined\", \"createdat\", \"slug\", \"uid\", \"role\", \"payload\", \"jest\", \"ltroute\", \"usestate\", \"await\", \"export\", \"team\", \"component\", \"intent\", \"client\", \"service\", \"boolean\", \"angular\", \"false\", \"default\", \"return\", \"store\", \"new\", \"api\", \"state\", \"request\", \"function\", \"error\", \"string\", \"response\", \"true\", \"var\", \"page\", \"app\", \"code\", \"value\", \"name\", \"work\", \"way\", \"ltlt\", \"clang\", \"gcc\", \"template\", \"operator\", \"stdcout\", \"width\", \"bottom\", \"height\", \"double\", \"volatile\", \"pointer\", \"char\", \"lttypename\", \"standard\", \"scroll\", \"compiler\", \"uiview\", \"typename\", \"block\", \"text\", \"mov\", \"ltiostreamgtinclude\", \"gem\", \"androidlayoutwidthmatchparent\", \"memory\", \"white\", \"black\", \"backgroundcolor\", \"androidlayoutheightwrapcontent\", \"int\", \"c\", \"program\", \"point\", \"bit\", \"constexpr\", \"main\", \"effect\", \"html\", \"different\", \"code\", \"operation\", \"background\", \"thread\", \"function\", \"b\", \"size\", \"question\", \"type\", \"return\", \"way\", \"time\", \"color\", \"case\", \"example\", \"value\", \"variable\", \"work\", \"error\", \"use\", \"info\", \"port\", \"docker\", \"ssh\", \"\\u2500\", \"driver\", \"spawn\", \"volume\", \"pod\", \"ltmodulegt\", \"host\", \"unknown\", \"pdf\", \"selenium\", \"ltfrozen\", \"nginx\", \"php\", \"line\", \"importlibbootstrapgt\", \"\\u251c\", \"job\", \"hyperv\", \"dockercompose\", \"\\u2502\", \"file\", \"env\", \"mount\", \"utf\", \"heroku\", \"recent\", \"git\", \"container\", \"command\", \"debug\", \"server\", \"browser\", \"process\", \"start\", \"error\", \"chrome\", \"local\", \"name\", \"python\", \"import\", \"connection\", \"node\", \"address\", \"environment\", \"window\", \"version\", \"script\", \"issue\", \"image\", \"application\", \"code\", \"type\", \"module\", \"new\", \"spring\", \"child\", \"ltgroupidgtorgspringframeworkbootltgroupidgt\", \"ltdependencygt\", \"bean\", \"context\", \"camera\", \"objectgt\", \"initself\", \"encoder\", \"proxy\", \"boot\", \"average\", \"abstract\", \"branch\", \"menu\", \"\\u2019\", \"sql\", \"ltexclusiongt\", \"static\", \"datetime\", \"void\", \"public\", \"mainactivity\", \"httphost\", \"def\", \"activity\", \"unit\", \"override\", \"customer\", \"ltversiongtltversiongt\", \"present\", \"event\", \"method\", \"class\", \"new\", \"interface\", \"test\", \"entity\", \"thread\", \"application\", \"cloud\", \"use\", \"change\", \"problem\", \"button\", \"string\", \"property\", \"url\", \"work\", \"python\", \"way\", \"code\", \"name\", \"example\", \"data\", \"gradle\", \"library\", \"studio\", \"android\", \"ltgoalsgt\", \"ltexecutiongt\", \"path\", \"ltconfigurationgt\", \"plugin\", \"source\", \"project\", \"visual\", \"flutter\", \"pip\", \"font\", \"buildgradle\", \"emulator\", \"modal\", \"crash\", \"ide\", \"repo\", \"deployment\", \"package\", \"theme\", \"ltexecutionsgt\", \"workspace\", \"folder\", \"build\", \"coverage\", \"play\", \"dependency\", \"production\", \"app\", \"version\", \"directory\", \"release\", \"google\", \"install\", \"native\", \"class\", \"module\", \"work\", \"file\", \"error\", \"support\", \"java\", \"problem\", \"code\", \"web\", \"val\", \"fun\", \"json\", \"d\", \"i\", \"subscription\", \"null\", \"table\", \"field\", \"title\", \"frame\", \"player\", \"item\", \"animation\", \"dictionary\", \"byte\", \"decode\", \"mapping\", \"starttime\", \"listltstringgt\", \"timestamp\", \"lttrgt\", \"consumer\", \"broker\", \"ngforlet\", \"view\", \"private\", \"var\", \"enum\", \"flow\", \"foo\", \"string\", \"column\", \"key\", \"long\", \"data\", \"object\", \"list\", \"response\", \"true\", \"value\", \"type\", \"return\", \"false\", \"message\", \"query\", \"new\", \"class\", \"public\", \"way\", \"code\"], \"Freq\": [91.0, 83.0, 36.0, 35.0, 34.0, 23.0, 61.0, 34.0, 30.0, 28.0, 46.0, 35.0, 22.0, 38.0, 42.0, 25.0, 25.0, 24.0, 79.0, 27.0, 68.0, 17.0, 19.0, 17.0, 26.0, 14.0, 19.0, 45.0, 22.0, 14.0, 5.969816575491726, 4.79399347575919, 5.220000158649598, 3.7433449546196416, 5.836726813496687, 8.247247068963736, 3.906977312027049, 2.8041326884495854, 3.4395185776822204, 3.2093589824835393, 6.341259437666024, 2.2987803168100496, 9.993277863795209, 2.332642040397421, 2.900151868721286, 2.4545049891780613, 3.8383280376045543, 2.1929301214780756, 15.63805938466144, 3.215338044540184, 1.7458043001712913, 2.8988098823462103, 1.6150656056785526, 1.85110336584816, 8.354306926623941, 2.334354093023504, 4.393545623596849, 2.1535983423342526, 1.0596424763334935, 2.8269876978204755, 4.760279955104283, 12.337664766050422, 11.291364413090166, 7.219514867336782, 7.787003744353231, 10.975665702129827, 15.272949110288938, 7.210195725797718, 6.487624389120606, 16.031065332429275, 8.155578262272108, 7.880206627827936, 10.542494113182974, 4.49728194228049, 11.030691333769422, 11.065355823240981, 11.845105262719683, 9.590586677958706, 5.5757061630128995, 7.864862331355909, 7.3139598325311965, 6.4638042963680675, 5.9861885887275745, 6.552312763740905, 6.041811883978749, 10.201875529922315, 32.01268714423519, 7.407229564315942, 3.9671115099570144, 3.8405587626535844, 3.4701666337146966, 2.289353789124937, 76.86431136552754, 20.695925946465877, 4.046103882357446, 5.544527223651032, 5.616808103871208, 2.434849959427286, 6.867056061468656, 1.6417871949078209, 5.505433726981632, 2.442312949675612, 1.7463756387707756, 2.7056047879070406, 2.471345116078309, 2.6509018728753078, 1.4074373669429354, 1.2745885782780135, 1.4147801883964148, 2.3559185576248303, 1.7520761533613434, 2.225735696540382, 1.1788502057673294, 1.2713194435218316, 1.7721533222664163, 5.681116014965417, 1.7569039376483309, 11.310535579811678, 2.3844631955638693, 5.716174581441659, 10.805591266586907, 3.74603023113645, 3.9032282661673103, 9.072010945865701, 8.023529348818512, 18.28393665279737, 5.491490365657004, 19.187965196671914, 7.685537184699956, 5.881348657760399, 6.960699337714408, 11.737395935281823, 16.102680898041335, 10.753580038031693, 5.449253811029949, 8.220235622377094, 7.261279659330984, 5.744817055921636, 8.391016630508116, 7.9948372471076254, 6.895492937420576, 6.0691915078783945, 5.776299153290273, 5.678797714321462, 14.088131243346165, 5.381507608589808, 3.980249944218842, 15.650060277993077, 4.455056993736702, 3.434138450722648, 6.377924135551917, 3.4934126357569784, 6.0619174097321675, 3.770904873029358, 3.084617033255132, 2.6291220190651483, 3.67636721079944, 2.0485949512574413, 4.354888531846722, 2.463343986692996, 3.3193532298759365, 1.9395387917134317, 2.1915300950367937, 5.800772377809839, 14.680349182534933, 1.2862950518260778, 1.2594863776745466, 1.6846172990374149, 1.369568284619437, 7.863772395314637, 1.9528118113865902, 1.5418688297381475, 1.6396012406051101, 1.2653721142231178, 19.670294560031227, 14.771802244259476, 6.294869500952036, 7.118522136132615, 5.850372319230387, 2.406213445051567, 8.698832437414096, 3.1989795479110383, 3.6744520144052117, 8.436418607691406, 18.08349491496781, 3.927488875944503, 4.06692395812575, 6.294117369208139, 12.128194557230888, 5.952453939830762, 5.921296395559791, 6.354807291688161, 8.877352559616108, 10.394215272962821, 7.966829387243341, 7.0664747100186505, 4.871816770297347, 5.589554675177316, 6.08513794906212, 6.852928613992317, 5.365959628121141, 5.9700808106282865, 5.658046662646713, 5.415830807900867, 17.020477803603114, 8.22994646313882, 9.659795401700924, 3.6122698792499595, 3.6186051352361153, 3.048764964700351, 3.121550011720569, 3.1483124791089114, 2.9482183877715156, 2.269259253489382, 5.914964302987095, 4.349792758132624, 2.5635635211057086, 2.5069782133292433, 1.8513941430025338, 2.3595812359451322, 3.910171367164428, 27.696639378542994, 1.5519719692972933, 1.6039079963237555, 4.720167944527535, 1.3345290107783532, 1.3296291631336565, 1.2939618985750216, 61.137619023756315, 2.013384552991187, 1.4284103251621476, 1.5561499919817634, 1.4363243013911584, 2.3746756878726862, 3.9876064961992737, 7.821378426089105, 9.405382436810418, 3.6525876836887217, 14.014578893779928, 7.188388530108135, 7.215408088974541, 5.071484021633268, 37.6219143542614, 4.7749011863578446, 4.910794750928297, 15.004768896402863, 7.9682543525345935, 11.188061613685658, 5.98168583719521, 5.488403983262427, 4.154526858489226, 5.085103230920892, 5.522976033545857, 8.696146946362742, 4.83079694869181, 5.54955787299458, 5.795506278392724, 5.498766395250913, 6.391028124804864, 5.4383853824822, 4.79888647055795, 4.778385542810318, 12.800622023346916, 8.27869848185551, 1.8244666824854734, 5.287224401593502, 2.577964081216131, 11.60225551150523, 1.984235896840509, 1.4687905924172597, 1.7449174935164375, 1.3604176419525849, 3.8250092748872815, 5.84819371752147, 2.937269666472296, 1.9135802945974687, 4.159112718371547, 4.136333375659772, 4.158184726171721, 5.839290942753892, 0.973245601628511, 10.800019599293375, 2.935388305576848, 15.747575229358402, 24.355000837795092, 0.9190558449527514, 1.073185023734996, 2.740042009781645, 3.4846739328182914, 3.576007441405469, 7.201163904864265, 0.9171482872006483, 1.5783969280829273, 3.8584419330509796, 7.337987407326016, 17.520286220517324, 30.934882934155418, 26.92018654079902, 3.298102435497197, 12.07644071200669, 3.2931901146940232, 5.9462314337832884, 8.25473694446013, 3.592239429438187, 7.433663796901151, 5.429983378917498, 7.134292463175813, 4.3779106152543035, 7.766060889805823, 4.471562573000779, 4.69093712887428, 6.691997204903784, 4.777593486770215, 5.845180039882435, 6.466312652092107, 5.775326859937593, 5.259941605928971, 5.311327697344724, 23.35365922451586, 35.9153674036948, 9.00790419344096, 20.876545956179093, 4.738652803852132, 4.738573900394167, 31.998006465305686, 4.470568173005511, 6.4760396862724985, 16.99122930738529, 25.02752666744239, 4.186020314096217, 5.7608121773045085, 3.011605508173429, 3.2627728926992505, 1.814955233513085, 1.8894071135994126, 1.9997068180047517, 3.2836620442373805, 1.625189937900768, 2.4994733441746066, 3.676665293117892, 11.070471628623862, 1.442521210674475, 1.3556211243865008, 1.516143095369643, 5.747887532190014, 10.93549152620015, 1.2931211779328715, 1.7060758991427212, 10.476723538605304, 3.278882564283612, 30.08443807807801, 24.898445784209247, 5.550467631030631, 3.090087716529297, 7.585068748779043, 5.94631334464684, 4.040403335672552, 14.532882127051032, 6.1418408563143805, 9.423057971270945, 13.041205786730245, 8.505603055371399, 4.018906239458301, 4.33205638629661, 5.345255258855959, 5.268034643494654, 4.22688713132473, 7.218234608100271, 7.086553438503251, 6.61750522758445, 21.43937785498233, 25.40074346770925, 2.659651698746392, 20.78310987249989, 9.477906480899925, 8.920071247686419, 4.150476423109709, 5.512602899997755, 2.6016054242811073, 7.520767475909695, 2.970943233071829, 1.9258610843522102, 6.627341487437181, 1.1939121434404703, 1.33896785504988, 0.9257738161777207, 1.2095364890216407, 0.8420486353981366, 0.7394785079754317, 1.503213150472135, 2.4285476584561247, 0.773031997423758, 9.397133531292628, 12.55526189358655, 15.88949979548103, 0.9268377690924536, 1.2698445836179302, 3.901741379604217, 22.66343208328738, 7.068825220217063, 7.6019076343373815, 4.8559612132558865, 20.424066252014207, 10.7268061965618, 7.2876539632951225, 6.071832487458491, 11.495725877400748, 14.383702001557607, 12.451069855035588, 14.367502376592137, 7.4901973416123875, 6.925722037583042, 4.476595096131488, 11.538613096234753, 10.31349534804424, 6.904891597611405, 6.260231397722505, 6.472236465574532], \"Total\": [91.0, 83.0, 36.0, 35.0, 34.0, 23.0, 61.0, 34.0, 30.0, 28.0, 46.0, 35.0, 22.0, 38.0, 42.0, 25.0, 25.0, 24.0, 79.0, 27.0, 68.0, 17.0, 19.0, 17.0, 26.0, 14.0, 19.0, 45.0, 22.0, 14.0, 6.535322061566132, 5.310480741544048, 5.786153094238383, 4.180421307651112, 6.544990844994468, 9.251124614699387, 4.455192901383611, 3.247445486974018, 3.9904437721382, 3.725269237660657, 7.391326074300543, 2.707868526143743, 11.819209775091743, 2.7617355075418137, 3.4446182356339237, 2.9300489075373877, 4.637730035325109, 2.7080540482690925, 19.31490568036071, 3.9966039811879503, 2.17093978447597, 3.6181879732309983, 2.035426611962208, 2.3521352923822034, 10.66133197631058, 3.009335456342978, 5.722496814761765, 2.8426373978759703, 1.4744943905890415, 3.9701562312212886, 6.75939697260188, 19.603368809765037, 17.954887314319734, 10.999303323170063, 12.235730182290826, 18.69981982543381, 30.06295562510603, 11.911257707388618, 10.809841505993118, 37.14636253850751, 16.61323114503518, 16.687703886239873, 27.120849262820585, 7.664658862610758, 42.818293336280334, 45.938332930432324, 62.52104931076128, 40.834789269699364, 13.398771779305699, 38.15808074614679, 32.151549432752766, 27.940695576516212, 25.466584270066733, 79.76851337544356, 54.98586917914163, 10.927754481099813, 34.474460246591605, 8.12113717151163, 4.558751992121647, 4.42260931191237, 4.001364955049425, 2.7092337767576464, 91.07162380263121, 24.539562020160048, 4.897346335271164, 6.735947817925182, 6.884548860288928, 2.9953381070861984, 8.525269681422303, 2.0641085909894668, 6.951900977015127, 3.0967360350675213, 2.217107760476215, 3.4643726509332433, 3.1699073536009608, 3.4699255268182476, 1.8677908120146847, 1.6962084740143706, 1.8998555343626213, 3.1649558250307055, 2.391702249923267, 3.0468995853056784, 1.6317800184105093, 1.7623637302879331, 2.4593089953147738, 7.9759577460253706, 2.4417280034206934, 16.54623480566629, 3.3918136136012564, 9.296427306681968, 19.21939964203807, 5.86353880230447, 6.262576105627775, 20.72166420295555, 17.679156536933043, 54.98586917914163, 10.828786300347803, 68.39111359357402, 18.047979512238854, 13.049476438016175, 17.250512131337963, 42.818293336280334, 79.76851337544356, 42.500496765149855, 12.459016987063663, 29.150990409181322, 26.030689971384017, 14.712841855857672, 46.73159271121637, 62.52104931076128, 40.834789269699364, 38.19551513144706, 39.966811191122154, 38.15808074614679, 14.86218949243196, 5.88277193657974, 4.38830628043122, 17.288236917961026, 5.003072153853951, 3.91905022625954, 7.310668393458327, 4.016226021204699, 6.979198425401916, 4.366530019054679, 3.6066980763727368, 3.090638472968443, 4.3389380305060925, 2.4491112332899405, 5.2969100658320185, 3.0335599259993082, 4.103651467863184, 2.3978560279824555, 2.731034066999845, 7.251757399911219, 19.203364259654315, 1.6960201667467159, 1.6753244060399042, 2.2444341295713914, 1.8287073618818226, 10.55338187838997, 2.623933360142352, 2.080587681971664, 2.2411788309578093, 1.7312862465518917, 27.344077706667495, 20.532603793094957, 9.04162335127441, 10.77043115874817, 9.21619062456893, 3.412096757510506, 16.39031923335519, 4.954005360116486, 5.942479598180564, 19.968772653157043, 62.52104931076128, 6.68443654696752, 7.136842372446948, 14.21255502739058, 42.818293336280334, 13.252167143540301, 13.398771779305699, 18.49084569062146, 38.26691819806935, 54.98586917914163, 38.15808074614679, 27.940695576516212, 11.0334989429189, 18.146861055507298, 25.466584270066733, 40.834789269699364, 16.61323114503518, 39.966811191122154, 79.76851337544356, 31.21808573142069, 17.7979233273752, 8.808272643592774, 10.365804473128678, 4.064280967265881, 4.072931942707768, 3.5540715698259087, 3.639123266266263, 3.689742327329648, 3.4753093461524043, 2.7229596162965017, 7.10471283760024, 5.250201841763495, 3.1015331985336205, 3.063815193501579, 2.2638414134921265, 2.9125069016591834, 4.875998061367152, 34.858709676843304, 1.9642792572962833, 2.0554516474816213, 6.122687693121291, 1.7576944546016304, 1.7640268884808994, 1.7209995628695034, 83.13053970680033, 2.746109676356413, 1.9575923349081978, 2.133513533045631, 1.9695480218242125, 3.2823234180922953, 5.525454813489783, 10.9270570032592, 13.496182520698026, 5.115278725476954, 21.229380600067916, 10.610744158788632, 10.960807189553645, 7.501056151594344, 79.76851337544356, 7.52961966278452, 8.202504104863518, 38.19551513144706, 16.063470738703934, 27.120849262820585, 11.072020902646019, 10.845437447551078, 6.66242126331865, 10.570312419020267, 12.983540267384843, 38.71350925700856, 10.515878893525912, 18.03758910042229, 30.06295562510603, 23.961386462718238, 62.52104931076128, 38.26691819806935, 16.489915911764655, 68.39111359357402, 14.38366013984242, 9.511667699636371, 2.227422903018287, 6.463053132447095, 3.231469907761977, 14.655083790562898, 2.539169028613976, 1.8825565239120314, 2.343900629847594, 1.8397233284041223, 5.192896949528966, 8.009213583468068, 4.0295564088970055, 2.65049846637049, 5.783258118041356, 5.787791098914839, 5.836702682759442, 8.199048326848795, 1.3670084520722676, 15.39323028598508, 4.212141413502152, 22.6043202455564, 35.23216353173978, 1.3444603468605432, 1.5863657663754012, 4.076039356036285, 5.2758661637638165, 5.449390408915841, 11.089239054837972, 1.4126027769530958, 2.434235780252129, 6.0823586719963165, 11.836552733893205, 29.994260330805808, 61.73819024874236, 68.39111359357402, 5.5255064242853935, 37.14636253850751, 5.843797382845057, 14.21255502739058, 23.961386462718238, 6.7244523388532444, 31.21808573142069, 16.873936837450657, 32.151549432752766, 10.567499955604681, 42.500496765149855, 12.234680953027095, 14.036593961742076, 39.966811191122154, 16.063470738703934, 38.15808074614679, 62.52104931076128, 38.19551513144706, 25.466584270066733, 45.938332930432324, 23.75825651589617, 36.85956216768869, 9.554098854239985, 22.36688109438132, 5.1590003734137335, 5.158985003215905, 35.202234479772436, 4.976350981923769, 7.377638198809837, 19.58528442851208, 28.977929650160327, 4.946519756588007, 6.9790740632435515, 3.727477062270427, 4.088770400325636, 2.2890798992801917, 2.4257658691970434, 2.5778970974490814, 4.2411197673259, 2.1072903586266776, 3.2631042831638, 4.829508695130663, 14.584409197511574, 1.9066017626647436, 1.7949983003010832, 2.0094194903903695, 7.953034184552224, 15.423388241240252, 1.8438447753904996, 2.471013976988435, 15.320842345941012, 4.762936566841715, 46.73159271121637, 38.71350925700856, 8.92268409065616, 4.565632257909963, 13.889501056259615, 10.667702417241545, 6.496243717140933, 61.73819024874236, 16.489915911764655, 39.966811191122154, 83.13053970680033, 79.76851337544356, 8.439874297536035, 11.609927220542694, 32.151549432752766, 62.52104931076128, 12.197682280671028, 7.715877425679524, 7.6146690046146635, 7.723551322382401, 25.567038657693583, 30.31497490811742, 3.298766896155067, 25.958405111228235, 11.930985500607274, 11.290976155788218, 5.270732923965932, 7.044955377463418, 3.3789581692845, 9.790801442975743, 3.8679492166069673, 2.5370378283486863, 9.135172958878368, 1.7212096524049576, 1.9498503953545374, 1.3709928034601804, 1.7923055834343624, 1.2984774993049495, 1.1522971562558832, 2.3701670395666974, 3.8498703458185597, 1.2291080464980464, 14.953679022950654, 20.302371143909575, 26.030689971384017, 1.5332972476184712, 2.2238304446172603, 6.85327376948712, 42.500496765149855, 12.768676724862143, 14.85377346395301, 9.081137404126096, 45.938332930432324, 22.5996005737045, 15.261494896350928, 12.459016987063663, 29.150990409181322, 40.834789269699364, 38.26691819806935, 54.98586917914163, 20.72166420295555, 19.573280726845773, 9.069476279977025, 68.39111359357402, 61.73819024874236, 35.23216353173978, 38.15808074614679, 62.52104931076128], \"Category\": [\"Default\", \"Default\", \"Default\", \"Default\", \"Default\", \"Default\", \"Default\", \"Default\", \"Default\", \"Default\", \"Default\", \"Default\", \"Default\", \"Default\", \"Default\", \"Default\", \"Default\", \"Default\", \"Default\", \"Default\", \"Default\", \"Default\", \"Default\", \"Default\", \"Default\", \"Default\", \"Default\", \"Default\", \"Default\", \"Default\", \"Topic1\", \"Topic1\", \"Topic1\", \"Topic1\", \"Topic1\", \"Topic1\", \"Topic1\", \"Topic1\", \"Topic1\", \"Topic1\", \"Topic1\", \"Topic1\", \"Topic1\", \"Topic1\", \"Topic1\", \"Topic1\", \"Topic1\", \"Topic1\", \"Topic1\", \"Topic1\", \"Topic1\", \"Topic1\", \"Topic1\", \"Topic1\", \"Topic1\", \"Topic1\", \"Topic1\", \"Topic1\", \"Topic1\", \"Topic1\", \"Topic1\", \"Topic1\", \"Topic1\", \"Topic1\", \"Topic1\", \"Topic1\", \"Topic1\", \"Topic1\", \"Topic1\", \"Topic1\", \"Topic1\", \"Topic1\", \"Topic1\", \"Topic1\", \"Topic1\", \"Topic1\", \"Topic1\", \"Topic1\", \"Topic1\", \"Topic1\", \"Topic1\", \"Topic1\", \"Topic1\", \"Topic1\", \"Topic1\", \"Topic2\", \"Topic2\", \"Topic2\", \"Topic2\", \"Topic2\", \"Topic2\", \"Topic2\", \"Topic2\", \"Topic2\", \"Topic2\", \"Topic2\", \"Topic2\", \"Topic2\", \"Topic2\", \"Topic2\", \"Topic2\", \"Topic2\", \"Topic2\", \"Topic2\", \"Topic2\", \"Topic2\", \"Topic2\", \"Topic2\", \"Topic2\", \"Topic2\", \"Topic2\", \"Topic2\", \"Topic2\", \"Topic2\", \"Topic2\", \"Topic2\", \"Topic2\", \"Topic2\", \"Topic2\", \"Topic2\", \"Topic2\", \"Topic2\", \"Topic2\", \"Topic2\", \"Topic2\", \"Topic2\", \"Topic2\", \"Topic2\", \"Topic2\", \"Topic2\", \"Topic2\", \"Topic2\", \"Topic2\", \"Topic2\", \"Topic2\", \"Topic2\", \"Topic2\", \"Topic2\", \"Topic2\", \"Topic2\", \"Topic2\", \"Topic2\", \"Topic2\", \"Topic2\", \"Topic3\", \"Topic3\", \"Topic3\", \"Topic3\", \"Topic3\", \"Topic3\", \"Topic3\", \"Topic3\", \"Topic3\", \"Topic3\", \"Topic3\", \"Topic3\", \"Topic3\", \"Topic3\", \"Topic3\", \"Topic3\", \"Topic3\", \"Topic3\", \"Topic3\", \"Topic3\", \"Topic3\", \"Topic3\", \"Topic3\", \"Topic3\", \"Topic3\", \"Topic3\", \"Topic3\", \"Topic3\", \"Topic3\", \"Topic3\", \"Topic3\", \"Topic3\", \"Topic3\", \"Topic3\", \"Topic3\", \"Topic3\", \"Topic3\", \"Topic3\", \"Topic3\", \"Topic3\", \"Topic3\", \"Topic3\", \"Topic3\", \"Topic3\", \"Topic3\", \"Topic3\", \"Topic3\", \"Topic3\", \"Topic3\", \"Topic3\", \"Topic3\", \"Topic3\", \"Topic3\", \"Topic3\", \"Topic3\", \"Topic3\", \"Topic3\", \"Topic3\", \"Topic3\", \"Topic3\", \"Topic4\", \"Topic4\", \"Topic4\", \"Topic4\", \"Topic4\", \"Topic4\", \"Topic4\", \"Topic4\", \"Topic4\", \"Topic4\", \"Topic4\", \"Topic4\", \"Topic4\", \"Topic4\", \"Topic4\", \"Topic4\", \"Topic4\", \"Topic4\", \"Topic4\", \"Topic4\", \"Topic4\", \"Topic4\", \"Topic4\", \"Topic4\", \"Topic4\", \"Topic4\", \"Topic4\", \"Topic4\", \"Topic4\", \"Topic4\", \"Topic4\", \"Topic4\", \"Topic4\", \"Topic4\", \"Topic4\", \"Topic4\", \"Topic4\", \"Topic4\", \"Topic4\", \"Topic4\", \"Topic4\", \"Topic4\", \"Topic4\", \"Topic4\", \"Topic4\", \"Topic4\", \"Topic4\", \"Topic4\", \"Topic4\", \"Topic4\", \"Topic4\", \"Topic4\", \"Topic4\", \"Topic4\", \"Topic4\", \"Topic4\", \"Topic4\", \"Topic4\", \"Topic5\", \"Topic5\", \"Topic5\", \"Topic5\", \"Topic5\", \"Topic5\", \"Topic5\", \"Topic5\", \"Topic5\", \"Topic5\", \"Topic5\", \"Topic5\", \"Topic5\", \"Topic5\", \"Topic5\", \"Topic5\", \"Topic5\", \"Topic5\", \"Topic5\", \"Topic5\", \"Topic5\", \"Topic5\", \"Topic5\", \"Topic5\", \"Topic5\", \"Topic5\", \"Topic5\", \"Topic5\", \"Topic5\", \"Topic5\", \"Topic5\", \"Topic5\", \"Topic5\", \"Topic5\", \"Topic5\", \"Topic5\", \"Topic5\", \"Topic5\", \"Topic5\", \"Topic5\", \"Topic5\", \"Topic5\", \"Topic5\", \"Topic5\", \"Topic5\", \"Topic5\", \"Topic5\", \"Topic5\", \"Topic5\", \"Topic5\", \"Topic5\", \"Topic5\", \"Topic5\", \"Topic5\", \"Topic5\", \"Topic5\", \"Topic6\", \"Topic6\", \"Topic6\", \"Topic6\", \"Topic6\", \"Topic6\", \"Topic6\", \"Topic6\", \"Topic6\", \"Topic6\", \"Topic6\", \"Topic6\", \"Topic6\", \"Topic6\", \"Topic6\", \"Topic6\", \"Topic6\", \"Topic6\", \"Topic6\", \"Topic6\", \"Topic6\", \"Topic6\", \"Topic6\", \"Topic6\", \"Topic6\", \"Topic6\", \"Topic6\", \"Topic6\", \"Topic6\", \"Topic6\", \"Topic6\", \"Topic6\", \"Topic6\", \"Topic6\", \"Topic6\", \"Topic6\", \"Topic6\", \"Topic6\", \"Topic6\", \"Topic6\", \"Topic6\", \"Topic6\", \"Topic6\", \"Topic6\", \"Topic6\", \"Topic6\", \"Topic6\", \"Topic6\", \"Topic6\", \"Topic7\", \"Topic7\", \"Topic7\", \"Topic7\", \"Topic7\", \"Topic7\", \"Topic7\", \"Topic7\", \"Topic7\", \"Topic7\", \"Topic7\", \"Topic7\", \"Topic7\", \"Topic7\", \"Topic7\", \"Topic7\", \"Topic7\", \"Topic7\", \"Topic7\", \"Topic7\", \"Topic7\", \"Topic7\", \"Topic7\", \"Topic7\", \"Topic7\", \"Topic7\", \"Topic7\", \"Topic7\", \"Topic7\", \"Topic7\", \"Topic7\", \"Topic7\", \"Topic7\", \"Topic7\", \"Topic7\", \"Topic7\", \"Topic7\", \"Topic7\", \"Topic7\", \"Topic7\", \"Topic7\", \"Topic7\", \"Topic7\", \"Topic7\", \"Topic7\", \"Topic7\", \"Topic7\", \"Topic7\", \"Topic7\", \"Topic7\", \"Topic7\"], \"logprob\": [30.0, 29.0, 28.0, 27.0, 26.0, 25.0, 24.0, 23.0, 22.0, 21.0, 20.0, 19.0, 18.0, 17.0, 16.0, 15.0, 14.0, 13.0, 12.0, 11.0, 10.0, 9.0, 8.0, 7.0, 6.0, 5.0, 4.0, 3.0, 2.0, 1.0, -5.0668, -5.2862, -5.201, -5.5335, -5.0894, -4.7436, -5.4908, -5.8224, -5.6182, -5.6875, -5.0064, -6.0211, -4.5516, -6.0065, -5.7888, -5.9556, -5.5085, -6.0683, -4.1038, -5.6856, -6.2963, -5.7892, -6.3741, -6.2377, -4.7307, -6.0058, -5.3734, -6.0864, -6.7956, -5.8143, -5.2932, -4.3409, -4.4295, -4.8767, -4.8011, -4.4578, -4.1274, -4.878, -4.9836, -4.079, -4.7548, -4.7892, -4.4981, -5.3501, -4.4528, -4.4497, -4.3816, -4.5927, -5.1351, -4.7911, -4.8637, -4.9873, -5.0641, -4.9737, -5.0548, -4.6001, -3.4565, -4.9202, -5.5446, -5.577, -5.6784, -6.0944, -2.5806, -3.8927, -5.5249, -5.2098, -5.1969, -6.0327, -4.9959, -6.4268, -5.2169, -6.0297, -6.3651, -5.9273, -6.0179, -5.9477, -6.5809, -6.68, -6.5757, -6.0657, -6.3618, -6.1225, -6.7581, -6.6826, -6.3504, -5.1855, -6.3591, -4.4969, -6.0537, -5.1793, -4.5426, -5.6019, -5.5608, -4.7174, -4.8403, -4.0166, -5.2194, -3.9683, -4.8833, -5.1508, -4.9824, -4.4599, -4.1436, -4.5474, -5.2272, -4.816, -4.9401, -5.1743, -4.7955, -4.8438, -4.9918, -5.1194, -5.1689, -5.1859, -4.2345, -5.1968, -5.4984, -4.1293, -5.3857, -5.646, -5.0269, -5.6289, -5.0778, -5.5525, -5.7534, -5.9131, -5.5779, -6.1626, -5.4085, -5.9783, -5.68, -6.2173, -6.0952, -5.1218, -4.1933, -6.628, -6.6491, -6.3583, -6.5653, -4.8175, -6.2105, -6.4468, -6.3853, -6.6444, -3.9007, -4.1871, -5.0401, -4.9171, -5.1133, -6.0017, -4.7166, -5.717, -5.5784, -4.7472, -3.9848, -5.5118, -5.4769, -5.0402, -4.3843, -5.096, -5.1012, -5.0306, -4.6963, -4.5385, -4.8045, -4.9244, -5.2963, -5.1589, -5.0739, -4.9551, -5.1997, -5.093, -5.1467, -5.1905, -4.0565, -4.7831, -4.6229, -5.6065, -5.6048, -5.7761, -5.7525, -5.744, -5.8097, -6.0714, -5.1134, -5.4207, -5.9495, -5.9718, -6.2749, -6.0324, -5.5273, -3.5696, -6.4513, -6.4184, -5.339, -6.6023, -6.606, -6.6332, -2.7777, -6.1911, -6.5343, -6.4487, -6.5288, -6.026, -5.5077, -4.834, -4.6496, -5.5954, -4.2508, -4.9184, -4.9147, -5.2672, -3.2633, -5.3275, -5.2994, -4.1825, -4.8154, -4.476, -5.1022, -5.1882, -5.4667, -5.2646, -5.182, -4.728, -5.3159, -5.1772, -5.1338, -5.1863, -5.036, -5.1974, -5.3225, -5.3268, -4.2959, -4.7317, -6.2441, -5.1801, -5.8984, -4.3942, -6.1602, -6.461, -6.2887, -6.5376, -5.5039, -5.0793, -5.768, -6.1965, -5.4201, -5.4256, -5.4204, -5.0808, -6.8726, -4.4659, -5.7686, -4.0887, -3.6527, -6.9298, -6.7748, -5.8375, -5.5971, -5.5712, -4.8712, -6.9319, -6.389, -5.4952, -4.8524, -3.9821, -3.4135, -3.5526, -5.6521, -4.3542, -5.6536, -5.0627, -4.7346, -5.5667, -4.8394, -5.1535, -4.8805, -5.3689, -4.7957, -5.3477, -5.2998, -4.9445, -5.2815, -5.0798, -4.9788, -5.0918, -5.1853, -5.1756, -3.68, -3.2496, -4.6327, -3.7922, -5.275, -5.2751, -3.3651, -5.3333, -4.9627, -3.9981, -3.6108, -5.399, -5.0797, -5.7283, -5.6482, -6.2347, -6.1945, -6.1378, -5.6418, -6.3452, -5.9147, -5.5288, -4.4265, -6.4644, -6.5265, -6.4146, -5.082, -4.4388, -6.5737, -6.2966, -4.4816, -5.6433, -3.4268, -3.616, -5.1169, -5.7026, -4.8046, -5.048, -5.4344, -4.1544, -5.0157, -4.5876, -4.2627, -4.6901, -5.4398, -5.3647, -5.1546, -5.1691, -5.3893, -4.8585, -4.8769, -4.9454, -3.7699, -3.6003, -5.8569, -3.801, -4.5861, -4.6468, -5.4119, -5.1281, -5.879, -4.8174, -5.7462, -6.1797, -4.9439, -6.6579, -6.5432, -6.9122, -6.6449, -7.007, -7.1369, -6.4275, -5.9478, -7.0925, -4.5947, -4.305, -4.0694, -6.9111, -6.5962, -5.4737, -3.7143, -4.8794, -4.8067, -5.2549, -3.8184, -4.4624, -4.8489, -5.0314, -4.3931, -4.169, -4.3133, -4.1701, -4.8215, -4.8999, -5.3362, -4.3894, -4.5016, -4.9029, -5.0009, -4.9676], \"loglift\": [30.0, 29.0, 28.0, 27.0, 26.0, 25.0, 24.0, 23.0, 22.0, 21.0, 20.0, 19.0, 18.0, 17.0, 16.0, 15.0, 14.0, 13.0, 12.0, 11.0, 10.0, 9.0, 8.0, 7.0, 6.0, 5.0, 4.0, 3.0, 2.0, 1.0, 1.8678, 1.856, 1.8554, 1.8479, 1.8438, 1.8435, 1.827, 1.8115, 1.8098, 1.8093, 1.8051, 1.7945, 1.7905, 1.7895, 1.7863, 1.7812, 1.7691, 1.7473, 1.7472, 1.7408, 1.7404, 1.7367, 1.727, 1.7188, 1.7145, 1.7043, 1.6941, 1.6807, 1.6279, 1.6187, 1.6077, 1.4953, 1.4945, 1.5373, 1.5064, 1.4255, 1.2811, 1.4563, 1.4478, 1.118, 1.2468, 1.208, 1.0134, 1.4252, 0.602, 0.5348, 0.2947, 0.5096, 1.0816, 0.379, 0.4776, 0.4945, 0.5104, -0.541, -0.25, 1.8205, 1.8151, 1.7972, 1.7502, 1.7481, 1.7468, 1.7208, 1.7196, 1.7189, 1.6983, 1.6946, 1.6857, 1.682, 1.6729, 1.6603, 1.6559, 1.6518, 1.6506, 1.642, 1.6403, 1.62, 1.6062, 1.6034, 1.5944, 1.594, 1.578, 1.5752, 1.5641, 1.5626, 1.5615, 1.5499, 1.5601, 1.5088, 1.5368, 1.4029, 1.3134, 1.4412, 1.4164, 1.0632, 1.0992, 0.7882, 1.2102, 0.6183, 1.0355, 1.0923, 0.9817, 0.595, 0.2891, 0.5149, 1.0622, 0.6233, 0.6125, 0.9488, 0.172, -0.1675, 0.1105, 0.0497, -0.0451, -0.0158, 1.8786, 1.843, 1.8345, 1.8325, 1.816, 1.8, 1.7956, 1.7926, 1.7912, 1.7854, 1.7757, 1.7703, 1.7664, 1.7535, 1.7362, 1.7238, 1.72, 1.7199, 1.712, 1.7088, 1.6635, 1.6555, 1.6468, 1.6451, 1.6429, 1.6379, 1.6367, 1.6324, 1.6195, 1.6186, 1.6027, 1.6028, 1.57, 1.518, 1.4776, 1.5828, 1.2986, 1.4947, 1.4513, 1.0704, 0.6916, 1.4003, 1.3697, 1.1175, 0.6706, 1.1317, 1.1155, 0.864, 0.471, 0.2662, 0.3656, 0.5573, 1.1146, 0.7545, 0.5005, 0.1472, 0.8019, 0.0308, -0.714, 0.1804, 1.8763, 1.8531, 1.8504, 1.8031, 1.8027, 1.7676, 1.7676, 1.7623, 1.7565, 1.7387, 1.7377, 1.7328, 1.7305, 1.7204, 1.7199, 1.7104, 1.7002, 1.691, 1.6854, 1.6729, 1.6608, 1.6455, 1.6383, 1.6358, 1.6137, 1.6106, 1.6058, 1.6054, 1.6053, 1.5973, 1.5948, 1.5866, 1.5598, 1.5842, 1.5057, 1.5316, 1.5029, 1.5296, 1.1694, 1.4655, 1.408, 0.9866, 1.2199, 1.0355, 1.3053, 1.2399, 1.4487, 1.1892, 1.0662, 0.4277, 1.1431, 0.7422, 0.2748, 0.4491, -0.3596, -0.0301, 0.6866, -0.7402, 1.8498, 1.8276, 1.7669, 1.7656, 1.7405, 1.7328, 1.7198, 1.7182, 1.6713, 1.6646, 1.6607, 1.652, 1.6502, 1.6406, 1.6367, 1.6305, 1.6273, 1.627, 1.6267, 1.612, 1.6053, 1.605, 1.5972, 1.586, 1.5756, 1.5693, 1.5516, 1.5452, 1.5347, 1.5345, 1.5332, 1.5113, 1.4883, 1.4288, 1.2754, 1.034, 1.4504, 0.8428, 1.3929, 1.095, 0.9008, 1.3394, 0.5314, 0.8326, 0.4609, 1.0852, 0.2667, 0.9599, 0.8704, 0.1793, 0.7538, 0.0903, -0.3025, 0.0773, 0.3892, -0.191, 1.9639, 1.9551, 1.9222, 1.9121, 1.8961, 1.8961, 1.8856, 1.8739, 1.8507, 1.839, 1.8345, 1.8141, 1.7892, 1.7678, 1.7554, 1.749, 1.7312, 1.7271, 1.7252, 1.7213, 1.7145, 1.7083, 1.7054, 1.7021, 1.7003, 1.6994, 1.6563, 1.6372, 1.6263, 1.6106, 1.601, 1.6077, 1.5406, 1.5397, 1.5063, 1.5907, 1.3761, 1.3966, 1.5062, 0.5346, 0.9934, 0.5362, 0.1288, -0.2573, 1.2391, 0.9952, 0.1868, -0.4928, 0.9213, 1.9101, 1.9049, 1.8222, 1.8007, 1.7999, 1.7614, 1.7544, 1.7466, 1.741, 1.7378, 1.7315, 1.7153, 1.713, 1.7129, 1.7011, 1.6558, 1.611, 1.6009, 1.5841, 1.5835, 1.5436, 1.5332, 1.5214, 1.516, 1.513, 1.5122, 1.4961, 1.4831, 1.4733, 1.4164, 1.4134, 1.348, 1.3854, 1.3069, 1.3508, 1.1662, 1.2316, 1.2376, 1.258, 1.0462, 0.9333, 0.854, 0.6346, 0.9592, 0.9378, 1.2707, 0.1972, 0.1873, 0.347, 0.1692, -0.2912]}, \"token.table\": {\"Topic\": [5, 2, 2, 1, 2, 5, 7, 2, 3, 4, 2, 6, 3, 3, 2, 6, 7, 2, 4, 5, 6, 7, 2, 3, 4, 5, 6, 7, 2, 3, 4, 5, 6, 1, 2, 7, 2, 5, 2, 2, 5, 1, 5, 2, 1, 1, 3, 4, 5, 7, 1, 3, 5, 3, 1, 5, 1, 3, 4, 7, 3, 3, 5, 2, 7, 4, 5, 6, 3, 5, 6, 4, 7, 2, 3, 4, 6, 1, 4, 6, 7, 6, 2, 5, 6, 7, 3, 4, 7, 1, 3, 4, 5, 6, 7, 5, 1, 2, 3, 5, 7, 1, 2, 3, 4, 5, 6, 7, 3, 5, 1, 3, 4, 6, 3, 1, 2, 3, 5, 6, 7, 2, 4, 5, 2, 4, 5, 1, 2, 3, 4, 5, 6, 7, 1, 2, 3, 6, 7, 1, 3, 5, 7, 1, 4, 5, 6, 3, 2, 5, 6, 7, 2, 4, 5, 2, 3, 3, 7, 7, 4, 5, 7, 2, 5, 7, 6, 6, 2, 5, 2, 7, 1, 2, 3, 4, 5, 7, 1, 7, 5, 7, 4, 6, 7, 1, 5, 2, 3, 4, 5, 6, 7, 1, 2, 5, 6, 4, 6, 1, 1, 7, 1, 2, 3, 4, 5, 6, 7, 1, 4, 6, 2, 4, 4, 3, 4, 3, 5, 1, 3, 7, 2, 6, 5, 5, 7, 7, 4, 1, 4, 6, 1, 4, 1, 2, 3, 4, 5, 6, 7, 1, 2, 4, 5, 7, 1, 2, 3, 4, 5, 6, 7, 1, 2, 1, 2, 4, 7, 2, 5, 7, 1, 2, 4, 5, 6, 7, 7, 5, 6, 1, 4, 6, 6, 3, 7, 1, 7, 7, 1, 2, 3, 4, 5, 7, 3, 3, 4, 5, 6, 1, 3, 1, 2, 3, 4, 6, 7, 6, 1, 2, 3, 5, 6, 7, 3, 4, 4, 1, 2, 3, 5, 4, 2, 4, 5, 6, 7, 6, 2, 1, 2, 3, 4, 5, 6, 7, 1, 2, 4, 5, 4, 4, 5, 1, 2, 3, 4, 7, 1, 4, 6, 2, 3, 5, 7, 2, 5, 5, 7, 1, 2, 3, 4, 5, 6, 7, 6, 7, 3, 4, 5, 6, 7, 2, 4, 5, 1, 7, 1, 1, 2, 4, 7, 1, 3, 4, 5, 1, 6, 1, 3, 4, 6, 1, 2, 4, 5, 6, 7, 7, 3, 4, 6, 2, 3, 5, 7, 1, 1, 2, 3, 5, 6, 6, 5, 6, 5, 6, 6, 4, 6, 5, 3, 3, 4, 2, 7, 3, 5, 6, 1, 3, 4, 5, 6, 7, 5, 7, 1, 1, 3, 4, 5, 6, 2, 4, 5, 6, 7, 1, 2, 3, 4, 5, 6, 7, 1, 6, 1, 2, 6, 7, 1, 2, 4, 6, 4, 3, 1, 2, 4, 5, 6, 7, 2, 3, 5, 6, 1, 2, 3, 4, 5, 6, 7, 7, 4, 1, 4, 1, 4, 1, 2, 4, 7, 1, 1, 2, 3, 4, 5, 7, 1, 1, 2, 3, 4, 5, 7, 5, 1, 2, 3, 7, 3, 1, 2, 3, 4, 5, 6, 7, 2, 3, 5, 7, 1, 4, 6, 2, 3, 4, 6, 7, 1, 2, 4, 4, 6, 2, 4, 4, 6, 6, 7, 1, 6, 4, 1, 3, 5, 6, 3, 1, 4, 1, 5, 7, 2, 5, 7, 1, 2, 3, 4, 5, 6, 7, 2, 3, 4, 6, 4, 6, 1, 3, 4, 5, 1, 4, 5, 6, 7, 2, 3, 5, 6, 7, 1, 5, 2, 5, 7, 1, 4, 5, 6, 2, 5, 7, 1, 2, 3, 5, 6, 7, 4, 3, 6, 6, 2, 4, 5, 7, 2, 7, 1, 2, 3, 4, 5, 7, 2, 2, 2, 1, 4, 6, 3, 4, 2, 4, 5, 7, 2, 4, 5, 6, 7, 1, 1, 3, 7, 2, 4, 6, 7, 4, 5, 7, 2, 4, 5, 4, 3, 2, 4, 6, 7, 2, 3, 4, 7, 2, 3, 5, 6, 7, 3, 2, 3, 6, 7, 2, 5, 7, 6, 7, 1, 4, 5, 6, 2, 5, 7, 2, 3, 6, 1, 1, 6, 1, 2, 3, 4, 5, 6, 7, 1, 2, 3, 7, 6, 2, 3, 4, 5, 1, 2, 3, 4, 5, 6, 7, 7, 7, 2, 1, 3, 1, 1, 1, 2, 3, 4, 5, 6, 7, 1, 2, 3, 4, 5, 6, 7, 3, 2, 3, 2, 2, 5, 4, 2, 4, 5, 6, 7, 1, 2, 3, 4, 5, 6, 7, 2, 6, 2, 2, 4, 7, 1, 2, 3, 4, 5, 7, 1, 2, 3, 7, 1, 2, 3, 4, 6, 1, 3, 4, 5, 6, 7, 3, 5, 7, 6, 2, 3, 5, 7, 3, 4, 1, 2, 3, 4, 5, 6, 7, 2, 4, 5, 6, 1, 3, 3, 1, 2, 3, 4, 5, 6, 7, 1, 3, 1, 2, 3, 4, 5, 6, 7, 6, 1, 2, 3, 3, 5, 6, 4, 4, 4], \"Freq\": [0.7545750451758373, 0.7382161027069276, 0.8167688634131532, 0.6781985787009422, 0.8715168011383966, 0.5686270096472258, 0.1895423365490753, 0.15009558244323407, 0.15009558244323407, 0.6003823297729363, 0.6458412913958267, 0.9388881673482545, 0.5776052354090176, 0.5468343491388118, 0.6387147928478597, 0.15967869821196493, 0.7756048055438671, 0.4432629145315114, 0.055407864316438925, 0.055407864316438925, 0.16622359294931677, 0.2216314572657557, 0.17119039895423604, 0.06419639960783852, 0.06419639960783852, 0.021398799869279506, 0.6419639960783852, 0.021398799869279506, 0.20866906043936775, 0.04173381208787355, 0.20866906043936775, 0.3338704967029884, 0.12520143626362065, 0.612139684584337, 0.05101164038202809, 0.3060698422921685, 0.8210883950397406, 0.11729834214853438, 0.7497441582313613, 0.8907432424035806, 0.14845720706726342, 0.24816627403256183, 0.7444988220976855, 0.8132365651531375, 0.7385376969408496, 0.1509187122632157, 0.45275613678964716, 0.07545935613160785, 0.1509187122632157, 0.1509187122632157, 0.14011798885466187, 0.5604719554186475, 0.14011798885466187, 0.892387511595968, 0.8053109207977404, 0.9283700871835485, 0.10850470012351478, 0.6510282007410887, 0.10850470012351478, 0.10850470012351478, 0.9612668657658805, 0.8273856486254567, 0.13789760810424279, 0.6821818930281373, 0.1705454732570343, 0.12485620336859468, 0.749137220211568, 0.12485620336859468, 0.7469699125897616, 0.6916516465902959, 0.17291291164757397, 0.25974900715452015, 0.5194980143090403, 0.09424409683572696, 0.09424409683572696, 0.6597086778500887, 0.09424409683572696, 0.1296731929922016, 0.0648365964961008, 0.7132025614571088, 0.0648365964961008, 0.8737134953781676, 0.1892595229148083, 0.3785190458296166, 0.1892595229148083, 0.1892595229148083, 0.10946700237657916, 0.10946700237657916, 0.7662690166360542, 0.04870302909835023, 0.7305454364752535, 0.04870302909835023, 0.04870302909835023, 0.09740605819670047, 0.04870302909835023, 0.7876592607510319, 0.1653178470272987, 0.1653178470272987, 0.3306356940545974, 0.1653178470272987, 0.1653178470272987, 0.05926299295968455, 0.05926299295968455, 0.17778897887905365, 0.1185259859193691, 0.29631496479842273, 0.17778897887905365, 0.05926299295968455, 0.9218845652730931, 0.8410722759275787, 0.13280883295374724, 0.13280883295374724, 0.6640441647687363, 0.13280883295374724, 0.8499394594764818, 0.032394859517942236, 0.04859228927691335, 0.016197429758971118, 0.5021203225281047, 0.24296144638456676, 0.16197429758971119, 0.645409231101866, 0.21513641036728867, 0.10756820518364434, 0.2974219905529244, 0.1487109952764622, 0.5948439811058488, 0.1919353582879571, 0.12795690552530475, 0.2879030374319357, 0.09596767914397855, 0.09596767914397855, 0.07997306595331546, 0.09596767914397855, 0.36253232276485853, 0.09063308069121463, 0.45316540345607315, 0.09063308069121463, 0.09063308069121463, 0.15663330218907967, 0.07831665109453984, 0.23494995328361948, 0.5482165576617788, 0.07409502638737875, 0.6668552374864087, 0.07409502638737875, 0.07409502638737875, 0.7310562369864546, 0.6648038136285258, 0.06043671032986598, 0.12087342065973196, 0.06043671032986598, 0.090317748565758, 0.5419064913945479, 0.361270994263032, 0.855760994542112, 0.12225157064887314, 0.5861498492379262, 0.2930749246189631, 0.8438223832382845, 0.7321275982740686, 0.09151594978425857, 0.09151594978425857, 0.06823570675480868, 0.8188284810577042, 0.13647141350961736, 0.5423450028694603, 0.7073603587223268, 0.5353918616407338, 0.7079130922827034, 0.11733857957371398, 0.8213700570159979, 0.23945144062276008, 0.1088415639194364, 0.04353662556777456, 0.02176831278388728, 0.1088415639194364, 0.4353662556777456, 0.6989955834805519, 0.17474889587013798, 0.7122267999795556, 0.23740893332651852, 0.7819710742403456, 0.1954927685600864, 0.5809867488267635, 0.24533619836596546, 0.7360085950978964, 0.45251027577517167, 0.11312756894379292, 0.22625513788758583, 0.05656378447189646, 0.05656378447189646, 0.05656378447189646, 0.19581168791249898, 0.06527056263749965, 0.06527056263749965, 0.6527056263749966, 0.20706039954089883, 0.8282415981635953, 0.8291443181491304, 0.8709237990339735, 0.7883209220028718, 0.10015638090224849, 0.050078190451124244, 0.40062552360899395, 0.050078190451124244, 0.15023457135337273, 0.15023457135337273, 0.10015638090224849, 0.11207389949479446, 0.22414779898958892, 0.6724433969687668, 0.9020761352485718, 0.9647104598512393, 0.5668847830665183, 0.9160592009089108, 0.8441023038112175, 0.6055706003373116, 0.20185686677910386, 0.6364039425346586, 0.1818296978670453, 0.09091484893352265, 0.8619482533253471, 0.8244818782375, 0.543559993266735, 0.5133648214441425, 0.342243214296095, 0.6521892617711325, 0.7283030307273217, 0.18920916626846251, 0.47302291567115634, 0.28381374940269377, 0.7503752831049587, 0.18759382077623968, 0.0877539232435404, 0.2005803959852352, 0.0752176484944632, 0.4763784404649336, 0.0250725494981544, 0.1128264727416948, 0.0376088242472316, 0.08448405735029292, 0.08448405735029292, 0.08448405735029292, 0.5913884014520504, 0.08448405735029292, 0.23560285652647825, 0.07853428550882607, 0.23560285652647825, 0.03926714275441304, 0.1963357137720652, 0.03926714275441304, 0.15706857101765215, 0.25075358517247065, 0.752260755517412, 0.09651734437983693, 0.43432804970926614, 0.048258672189918465, 0.33781070532942925, 0.08856630163791099, 0.08856630163791099, 0.7970967147411989, 0.06014636760010093, 0.012029273520020187, 0.7337856847212314, 0.012029273520020187, 0.15638055576026244, 0.012029273520020187, 0.4496745704783749, 0.14328548328017687, 0.8597128996810612, 0.12573817448721333, 0.12573817448721333, 0.7544290469232801, 0.7337169139556174, 0.2918313301453992, 0.5836626602907984, 0.14194554066289297, 0.8516732439773578, 0.9192783029384258, 0.25689954323050046, 0.28025404716054597, 0.28025404716054597, 0.023354503930045498, 0.09341801572018199, 0.07006351179013649, 0.9115134050321888, 0.8910932041395798, 0.7239223077590726, 0.18098057693976816, 0.18098057693976816, 0.73971095650495, 0.14794219130099, 0.07199682666421826, 0.2159904799926548, 0.07199682666421826, 0.07199682666421826, 0.5759746133137461, 0.07199682666421826, 0.9680845050482203, 0.04392147447232003, 0.8454883835921606, 0.021960737236160016, 0.021960737236160016, 0.021960737236160016, 0.04392147447232003, 0.8596975804788748, 0.5077307021302234, 0.8445098538319842, 0.1682799214499911, 0.1682799214499911, 0.6731196857999644, 0.6303716464361458, 0.5689270950261053, 0.0989609923509022, 0.03298699745030073, 0.03298699745030073, 0.03298699745030073, 0.8246749362575183, 0.9490861056771508, 0.6309332661498873, 0.4989529368653717, 0.033263529124358114, 0.06652705824871623, 0.19958117474614867, 0.13305411649743246, 0.033263529124358114, 0.033263529124358114, 0.40559201864963995, 0.14748800678168725, 0.40559201864963995, 0.03687200169542181, 1.0181851651546145, 0.9551676163169045, 0.8532784942039308, 0.6538228516659074, 0.08172785645823842, 0.08172785645823842, 0.08172785645823842, 0.08172785645823842, 0.09374089760732003, 0.2812226928219601, 0.5624453856439202, 0.03657099027904544, 0.7314198055809087, 0.03657099027904544, 0.21942594167427262, 0.5896550423584452, 0.2948275211792226, 0.5429366594914394, 0.1809788864971465, 0.055439781582372796, 0.16631934474711838, 0.16631934474711838, 0.33263868949423675, 0.11087956316474559, 0.22175912632949119, 0.055439781582372796, 0.1021366847059731, 0.8170934776477848, 0.08613318421416048, 0.08613318421416048, 0.17226636842832097, 0.34453273685664193, 0.25839955264248143, 0.656404959863274, 0.8166348261756669, 0.16332696523513338, 0.1294741186094094, 0.9063188302658659, 0.9568413577548033, 0.921260006519604, 0.20196888065381974, 0.20196888065381974, 0.5385836817435193, 0.5550497661481457, 0.0925082943580243, 0.0925082943580243, 0.1850165887160486, 0.9180878835774091, 0.9766800765625429, 0.1147489404249867, 0.028687235106246677, 0.8032425829749069, 0.028687235106246677, 0.19657314177769764, 0.06552438059256588, 0.06552438059256588, 0.06552438059256588, 0.06552438059256588, 0.45867066414796115, 0.5579405706496935, 0.24382797916725676, 0.6095699479181419, 0.12191398958362838, 0.8774331235638017, 0.2202367292770267, 0.11011836463851335, 0.5505918231925667, 0.6645985563970497, 0.5882409618213963, 0.053476451074672395, 0.21390580429868958, 0.053476451074672395, 0.053476451074672395, 0.8038018247767706, 0.7736281750335632, 0.15472563500671266, 0.7315243724236568, 0.9691828909917745, 0.5571035915924073, 0.8834541094973903, 0.9691800035074387, 0.8978986420988507, 0.5968993207493338, 0.9419877203913326, 0.7344949179673111, 0.6128277027035077, 0.8678316999837639, 0.8166227702583192, 0.8216130977225418, 0.4108065488612709, 0.18303487304230398, 0.5491046191269119, 0.06101162434743466, 0.12202324869486932, 0.06101162434743466, 0.06101162434743466, 0.7437928551296478, 0.5128598595987012, 0.8624909103230275, 0.09475635502659935, 0.7580508402127948, 0.09475635502659935, 0.6911099470659826, 0.17277748676649565, 0.15327016670666477, 0.204360222275553, 0.1021801111377765, 0.15327016670666477, 0.3576303889822178, 0.03333971196392342, 0.1666985598196171, 0.03333971196392342, 0.03333971196392342, 0.6001148153506215, 0.03333971196392342, 0.13335884785569369, 0.8502912253718337, 0.7758261576767628, 0.8283757769663205, 0.05177348606039503, 0.05177348606039503, 0.05177348606039503, 0.24257249226760572, 0.06064312306690143, 0.30321561533450714, 0.36385873840140853, 0.510831587439218, 0.5896156305253063, 0.05236216851944912, 0.15708650555834738, 0.39271626389586844, 0.15708650555834738, 0.07854325277917369, 0.15708650555834738, 0.15393511135695365, 0.15393511135695365, 0.15393511135695365, 0.6157404454278146, 0.029243565353904672, 0.27781387086209436, 0.014621782676952336, 0.07310891338476168, 0.3947881322777131, 0.04386534803085701, 0.17546139212342804, 0.8135981233295013, 0.6866936517337175, 0.4610233588253289, 0.4610233588253289, 0.8460802532733097, 0.08460802532733097, 0.8647597274053105, 0.11556950387149781, 0.038523167957165934, 0.8089865271004847, 0.9238030359657896, 0.6126465628791257, 0.05569514207992051, 0.05569514207992051, 0.05569514207992051, 0.05569514207992051, 0.16708542623976153, 0.7517960836702905, 0.08849713929577484, 0.13274570894366225, 0.08849713929577484, 0.04424856964788742, 0.17699427859154968, 0.48673426612676157, 0.5311925497577932, 0.149601240579307, 0.149601240579307, 0.598404962317228, 0.149601240579307, 0.7995087572180489, 0.4793948918638552, 0.0599243614829819, 0.0599243614829819, 0.17977308444894569, 0.1198487229659638, 0.0599243614829819, 0.0599243614829819, 0.09017751308767429, 0.09017751308767429, 0.63124259161372, 0.09017751308767429, 0.06856637018732457, 0.13713274037464915, 0.7542300720605704, 0.407807006884343, 0.13593566896144768, 0.13593566896144768, 0.2039035034421715, 0.13593566896144768, 0.9167316107995368, 0.8630732830973327, 0.14384554718288878, 0.05681457525513673, 0.9090332040821877, 0.8362244924359485, 0.967263546112734, 0.8203448708670044, 0.8048339265091771, 0.8093843331624994, 0.8878476292694842, 0.8978286885754722, 0.8132683981396542, 0.8632325071497217, 0.09284679371333807, 0.6499275559933664, 0.09284679371333807, 0.09284679371333807, 0.9706732205137575, 0.9825949942120212, 0.908237099792691, 0.6825824629940856, 0.6576396124773654, 0.16440990311934134, 0.14776599140736119, 0.19702132187648158, 0.6403192960985652, 0.21771890075285466, 0.062205400215101334, 0.12441080043020267, 0.12441080043020267, 0.21771890075285466, 0.15551350053775334, 0.093308100322652, 0.09123415663702801, 0.09123415663702801, 0.638639096459196, 0.09123415663702801, 0.20995450725960355, 0.6298635217788107, 0.11059960818419302, 0.6635976491051582, 0.11059960818419302, 0.11059960818419302, 0.03450902159238513, 0.03450902159238513, 0.03450902159238513, 0.8627255398096283, 0.03450902159238513, 0.1634697306516327, 0.08173486532581635, 0.3269394613032654, 0.08173486532581635, 0.3269394613032654, 0.19257073839886374, 0.770282953595455, 0.08514946853313095, 0.6811957482650476, 0.1986820932439722, 0.12450609413948907, 0.4980243765579563, 0.3112652353487227, 0.062253047069744535, 0.33077984961746876, 0.11025994987248958, 0.4410397994899583, 0.16224244419072717, 0.10816162946048478, 0.32448488838145434, 0.21632325892096957, 0.10816162946048478, 0.05408081473024239, 0.6093244769774732, 0.219027714785285, 0.6570831443558549, 0.6129132955753608, 0.40578505418882743, 0.17390788036664032, 0.17390788036664032, 0.2318771738221871, 0.40131577035263344, 0.48157892442316014, 0.10911894436827495, 0.3273568331048249, 0.18186490728045826, 0.03637298145609165, 0.0727459629121833, 0.25461087019264156, 0.6319203523103191, 0.9044434445579298, 0.6677042552453478, 0.09509428647144737, 0.4754714323572368, 0.38037714588578947, 0.6592914096929088, 0.9791713306870033, 0.23552265109345696, 0.6594634230616795, 0.0471045302186914, 0.0471045302186914, 0.5723383771020609, 0.20812304621893124, 0.05203076155473281, 0.10406152310946562, 0.05203076155473281, 0.8641319921138619, 0.44780223880422787, 0.44780223880422787, 0.07463370646737132, 0.5895501734131342, 0.05105874278466996, 0.8679986273393893, 0.05105874278466996, 0.824374383744906, 0.903803334729127, 0.06952333344070208, 0.12196537453320976, 0.12196537453320976, 0.7317922471992585, 0.9841839263122786, 0.7551572426728932, 0.13331455994866145, 0.6665727997433073, 0.13331455994866145, 0.7293984311778661, 0.4597885615181156, 0.07663142691968593, 0.15326285383937185, 0.3065257076787437, 0.06496362241201965, 0.06496362241201965, 0.7145998465322162, 0.06496362241201965, 0.06496362241201965, 0.7654915928095392, 0.46173226263033823, 0.1846929050521353, 0.09234645252606764, 0.09234645252606764, 0.2588205041645521, 0.18823309393785606, 0.5411701450713362, 0.9420040693849339, 0.9094307341014911, 0.11848517699984505, 0.11848517699984505, 0.11848517699984505, 0.4739407079993802, 0.08381537300075514, 0.08381537300075514, 0.7543383570067963, 0.8190920516937747, 0.9254847718668955, 0.05784279824168097, 0.7385882958092452, 0.7556377697199962, 0.25187925657333204, 0.4307285803129099, 0.10768214507822747, 0.053841072539113737, 0.026920536269556868, 0.3230464352346824, 0.053841072539113737, 0.026920536269556868, 0.05207420879376692, 0.05207420879376692, 0.7811131319065038, 0.10414841758753383, 0.5244933785240813, 0.9689412702077195, 0.42216195388068783, 0.0703603256467813, 0.42216195388068783, 0.21474053799300977, 0.07158017933100326, 0.2505306276585114, 0.10737026899650488, 0.10737026899650488, 0.03579008966550163, 0.17895044832750814, 0.7701327135320258, 0.7589077378237226, 0.9151010866226527, 0.8117623197360824, 0.13529371995601372, 0.7241823101952928, 0.9415343437525067, 0.10291245538796952, 0.27443321436791873, 0.03430415179598984, 0.13721660718395937, 0.03430415179598984, 0.03430415179598984, 0.37734566975588824, 0.10452892964351149, 0.13066116205438935, 0.23519009169790084, 0.13066116205438935, 0.05226446482175574, 0.02613223241087787, 0.31358678893053443, 0.7323233438084071, 0.5263558106987792, 0.8340784336759327, 0.8645718695729051, 0.18350676405270633, 0.7340270562108253, 0.7618754708021733, 0.35621177143314986, 0.07124235428662998, 0.35621177143314986, 0.07124235428662998, 0.07124235428662998, 0.16016356810012697, 0.09609814086007619, 0.16016356810012697, 0.12813085448010159, 0.22422899534017776, 0.09609814086007619, 0.09609814086007619, 0.928223379600664, 0.02900698061252075, 0.8659576501366996, 0.5674197572351429, 0.9374208173617545, 0.9072202179758606, 0.24488922751513498, 0.1714224592605945, 0.1714224592605945, 0.048977845503026994, 0.024488922751513497, 0.342844918521189, 0.07683238524213666, 0.26891334834747826, 0.03841619262106833, 0.6146590819370933, 0.48154389294648314, 0.06019298661831039, 0.300964933091552, 0.06019298661831039, 0.06019298661831039, 0.703571972103937, 0.051661552734022086, 0.2324769873030994, 0.025830776367011043, 0.6457694091752761, 0.025830776367011043, 0.2674927015526325, 0.06687317538815812, 0.6018585784934231, 0.8086493528450205, 0.08847866152458903, 0.13271799228688355, 0.7078292921967122, 0.08847866152458903, 0.8317857321223588, 0.8130649063971818, 0.20965415040712818, 0.15724061280534612, 0.20965415040712818, 0.052413537601782044, 0.15724061280534612, 0.052413537601782044, 0.15724061280534612, 0.32793115183353905, 0.16396557591676952, 0.08198278795838476, 0.32793115183353905, 0.7506372945933663, 0.7622144793690558, 0.8207183908613433, 0.07702059526183616, 0.07702059526183616, 0.15404119052367232, 0.46212357157101697, 0.07702059526183616, 0.23106178578550848, 0.07702059526183616, 0.5218758031766476, 0.2609379015883238, 0.12510380115365952, 0.15012456138439143, 0.15012456138439143, 0.10008304092292762, 0.17514532161512333, 0.22518684207658712, 0.05004152046146381, 0.995312332524186, 0.5876793342870805, 0.08395419061244007, 0.25186257183732025, 0.17132961097261612, 0.6853184438904645, 0.17132961097261612, 0.9820935032223294, 0.5810576722824107, 0.9730221591203267], \"Term\": [\"abstract\", \"accesstoken\", \"account\", \"accuracy\", \"action\", \"activity\", \"activity\", \"address\", \"address\", \"address\", \"admin\", \"android\", \"androidlayoutheightwrapcontent\", \"androidlayoutwidthmatchparent\", \"angular\", \"angular\", \"animation\", \"api\", \"api\", \"api\", \"api\", \"api\", \"app\", \"app\", \"app\", \"app\", \"app\", \"app\", \"application\", \"application\", \"application\", \"application\", \"application\", \"array\", \"array\", \"array\", \"async\", \"async\", \"auth\", \"authentication\", \"authentication\", \"average\", \"average\", \"await\", \"axis\", \"b\", \"b\", \"b\", \"b\", \"b\", \"background\", \"background\", \"background\", \"backgroundcolor\", \"batch\", \"bean\", \"bit\", \"bit\", \"bit\", \"bit\", \"black\", \"block\", \"block\", \"boolean\", \"boolean\", \"boot\", \"boot\", \"boot\", \"bottom\", \"branch\", \"branch\", \"broker\", \"broker\", \"browser\", \"browser\", \"browser\", \"browser\", \"build\", \"build\", \"build\", \"build\", \"buildgradle\", \"button\", \"button\", \"button\", \"button\", \"byte\", \"byte\", \"byte\", \"c\", \"c\", \"c\", \"c\", \"c\", \"c\", \"camera\", \"case\", \"case\", \"case\", \"case\", \"case\", \"change\", \"change\", \"change\", \"change\", \"change\", \"change\", \"change\", \"char\", \"child\", \"chrome\", \"chrome\", \"chrome\", \"chrome\", \"clang\", \"class\", \"class\", \"class\", \"class\", \"class\", \"class\", \"client\", \"client\", \"client\", \"cloud\", \"cloud\", \"cloud\", \"code\", \"code\", \"code\", \"code\", \"code\", \"code\", \"code\", \"color\", \"color\", \"color\", \"color\", \"color\", \"column\", \"column\", \"column\", \"column\", \"command\", \"command\", \"command\", \"command\", \"compiler\", \"component\", \"component\", \"component\", \"component\", \"connection\", \"connection\", \"connection\", \"const\", \"const\", \"constexpr\", \"constexpr\", \"consumer\", \"container\", \"container\", \"container\", \"context\", \"context\", \"context\", \"coverage\", \"crash\", \"createdat\", \"customer\", \"d\", \"d\", \"data\", \"data\", \"data\", \"data\", \"data\", \"data\", \"dataframe\", \"dataframe\", \"datetime\", \"datetime\", \"debug\", \"debug\", \"decode\", \"def\", \"def\", \"default\", \"default\", \"default\", \"default\", \"default\", \"default\", \"dependency\", \"dependency\", \"dependency\", \"dependency\", \"deployment\", \"deployment\", \"deprecated\", \"df\", \"dictionary\", \"different\", \"different\", \"different\", \"different\", \"different\", \"different\", \"different\", \"directory\", \"directory\", \"directory\", \"dispatch\", \"docker\", \"dockercompose\", \"double\", \"driver\", \"effect\", \"effect\", \"element\", \"element\", \"element\", \"email\", \"emulator\", \"encoder\", \"entity\", \"entity\", \"enum\", \"env\", \"environment\", \"environment\", \"environment\", \"err\", \"err\", \"error\", \"error\", \"error\", \"error\", \"error\", \"error\", \"error\", \"event\", \"event\", \"event\", \"event\", \"event\", \"example\", \"example\", \"example\", \"example\", \"example\", \"example\", \"example\", \"export\", \"export\", \"false\", \"false\", \"false\", \"false\", \"field\", \"field\", \"field\", \"file\", \"file\", \"file\", \"file\", \"file\", \"file\", \"flow\", \"flutter\", \"flutter\", \"folder\", \"folder\", \"folder\", \"font\", \"foo\", \"foo\", \"frame\", \"frame\", \"fun\", \"function\", \"function\", \"function\", \"function\", \"function\", \"function\", \"gcc\", \"gem\", \"git\", \"git\", \"git\", \"global\", \"global\", \"google\", \"google\", \"google\", \"google\", \"google\", \"google\", \"gradle\", \"gt\", \"gt\", \"gt\", \"gt\", \"gt\", \"gt\", \"height\", \"heroku\", \"host\", \"html\", \"html\", \"html\", \"httphost\", \"hyperv\", \"i\", \"i\", \"i\", \"i\", \"i\", \"ide\", \"identity\", \"image\", \"image\", \"image\", \"image\", \"image\", \"image\", \"image\", \"import\", \"import\", \"import\", \"import\", \"importlibbootstrapgt\", \"info\", \"initself\", \"input\", \"input\", \"input\", \"input\", \"input\", \"install\", \"install\", \"install\", \"int\", \"int\", \"int\", \"int\", \"intent\", \"intent\", \"interface\", \"interface\", \"issue\", \"issue\", \"issue\", \"issue\", \"issue\", \"issue\", \"issue\", \"item\", \"item\", \"java\", \"java\", \"java\", \"java\", \"java\", \"jest\", \"job\", \"job\", \"json\", \"json\", \"kera\", \"kernelsize\", \"key\", \"key\", \"key\", \"label\", \"label\", \"label\", \"label\", \"layer\", \"library\", \"line\", \"line\", \"line\", \"line\", \"list\", \"list\", \"list\", \"list\", \"list\", \"list\", \"listltstringgt\", \"local\", \"local\", \"local\", \"login\", \"long\", \"long\", \"long\", \"loss\", \"lt\", \"lt\", \"lt\", \"lt\", \"lt\", \"ltconfigurationgt\", \"ltdependencygt\", \"ltdependencygt\", \"ltexclusiongt\", \"ltexecutiongt\", \"ltexecutionsgt\", \"ltfrozen\", \"ltgoalsgt\", \"ltgroupidgtorgspringframeworkbootltgroupidgt\", \"ltiostreamgtinclude\", \"ltlt\", \"ltmodulegt\", \"ltroute\", \"lttrgt\", \"lttypename\", \"ltversiongtltversiongt\", \"ltversiongtltversiongt\", \"main\", \"main\", \"main\", \"main\", \"main\", \"main\", \"mainactivity\", \"mapping\", \"max\", \"memory\", \"memory\", \"memory\", \"menu\", \"menu\", \"message\", \"message\", \"message\", \"message\", \"message\", \"method\", \"method\", \"method\", \"method\", \"method\", \"method\", \"method\", \"min\", \"modal\", \"model\", \"model\", \"model\", \"model\", \"module\", \"module\", \"module\", \"module\", \"mount\", \"mov\", \"name\", \"name\", \"name\", \"name\", \"name\", \"name\", \"native\", \"native\", \"native\", \"native\", \"new\", \"new\", \"new\", \"new\", \"new\", \"new\", \"new\", \"ngforlet\", \"nginx\", \"node\", \"node\", \"none\", \"none\", \"npm\", \"null\", \"null\", \"null\", \"num\", \"number\", \"number\", \"number\", \"number\", \"number\", \"number\", \"numpy\", \"object\", \"object\", \"object\", \"object\", \"object\", \"object\", \"objectgt\", \"operation\", \"operation\", \"operation\", \"operation\", \"operator\", \"output\", \"output\", \"output\", \"output\", \"output\", \"output\", \"output\", \"override\", \"override\", \"override\", \"override\", \"package\", \"package\", \"package\", \"page\", \"page\", \"page\", \"page\", \"page\", \"panda\", \"password\", \"password\", \"path\", \"path\", \"payload\", \"pdf\", \"php\", \"pip\", \"play\", \"player\", \"plot\", \"plugin\", \"pod\", \"point\", \"point\", \"point\", \"point\", \"pointer\", \"polygon\", \"port\", \"prediction\", \"present\", \"present\", \"private\", \"private\", \"private\", \"problem\", \"problem\", \"problem\", \"problem\", \"problem\", \"problem\", \"problem\", \"process\", \"process\", \"process\", \"process\", \"production\", \"production\", \"program\", \"program\", \"program\", \"program\", \"project\", \"project\", \"project\", \"project\", \"project\", \"property\", \"property\", \"property\", \"property\", \"property\", \"proxy\", \"proxy\", \"public\", \"public\", \"public\", \"python\", \"python\", \"python\", \"python\", \"query\", \"query\", \"query\", \"question\", \"question\", \"question\", \"question\", \"question\", \"question\", \"recent\", \"release\", \"release\", \"repo\", \"request\", \"request\", \"request\", \"request\", \"response\", \"response\", \"return\", \"return\", \"return\", \"return\", \"return\", \"return\", \"role\", \"route\", \"router\", \"script\", \"script\", \"script\", \"scroll\", \"selenium\", \"server\", \"server\", \"server\", \"server\", \"service\", \"service\", \"service\", \"service\", \"service\", \"shape\", \"size\", \"size\", \"size\", \"slug\", \"source\", \"source\", \"source\", \"spawn\", \"spring\", \"spring\", \"sql\", \"sql\", \"sql\", \"ssh\", \"standard\", \"start\", \"start\", \"start\", \"starttime\", \"state\", \"state\", \"state\", \"state\", \"static\", \"static\", \"static\", \"static\", \"static\", \"stdcout\", \"store\", \"store\", \"store\", \"store\", \"string\", \"string\", \"string\", \"studio\", \"subscription\", \"support\", \"support\", \"support\", \"support\", \"table\", \"table\", \"table\", \"team\", \"template\", \"template\", \"tensor\", \"tensorflow\", \"tensorflow\", \"test\", \"test\", \"test\", \"test\", \"test\", \"test\", \"test\", \"text\", \"text\", \"text\", \"text\", \"theme\", \"thissetstate\", \"thread\", \"thread\", \"thread\", \"time\", \"time\", \"time\", \"time\", \"time\", \"time\", \"time\", \"timestamp\", \"title\", \"token\", \"total\", \"total\", \"train\", \"training\", \"true\", \"true\", \"true\", \"true\", \"true\", \"true\", \"true\", \"type\", \"type\", \"type\", \"type\", \"type\", \"type\", \"type\", \"typename\", \"uid\", \"uiview\", \"undefined\", \"unit\", \"unit\", \"unknown\", \"url\", \"url\", \"url\", \"url\", \"url\", \"use\", \"use\", \"use\", \"use\", \"use\", \"use\", \"use\", \"user\", \"user\", \"username\", \"usestate\", \"utf\", \"val\", \"value\", \"value\", \"value\", \"value\", \"value\", \"value\", \"var\", \"var\", \"var\", \"var\", \"variable\", \"variable\", \"variable\", \"variable\", \"variable\", \"vector\", \"version\", \"version\", \"version\", \"version\", \"version\", \"view\", \"view\", \"view\", \"visual\", \"void\", \"void\", \"void\", \"void\", \"volatile\", \"volume\", \"way\", \"way\", \"way\", \"way\", \"way\", \"way\", \"way\", \"web\", \"web\", \"web\", \"web\", \"webpack\", \"white\", \"width\", \"window\", \"window\", \"window\", \"window\", \"window\", \"window\", \"window\", \"word\", \"word\", \"work\", \"work\", \"work\", \"work\", \"work\", \"work\", \"work\", \"workspace\", \"x\", \"x\", \"x\", \"\\u2019\", \"\\u2019\", \"\\u2019\", \"\\u2500\", \"\\u2502\", \"\\u251c\"]}, \"R\": 30, \"lambda.step\": 0.01, \"plot.opts\": {\"xlab\": \"PC1\", \"ylab\": \"PC2\"}, \"topic.order\": [1, 2, 3, 4, 5, 6, 7]};\n",
       "\n",
       "function LDAvis_load_lib(url, callback){\n",
       "  var s = document.createElement('script');\n",
       "  s.src = url;\n",
       "  s.async = true;\n",
       "  s.onreadystatechange = s.onload = callback;\n",
       "  s.onerror = function(){console.warn(\"failed to load library \" + url);};\n",
       "  document.getElementsByTagName(\"head\")[0].appendChild(s);\n",
       "}\n",
       "\n",
       "if(typeof(LDAvis) !== \"undefined\"){\n",
       "   // already loaded: just create the visualization\n",
       "   !function(LDAvis){\n",
       "       new LDAvis(\"#\" + \"ldavis_el4406420902650392485307789442\", ldavis_el4406420902650392485307789442_data);\n",
       "   }(LDAvis);\n",
       "}else if(typeof define === \"function\" && define.amd){\n",
       "   // require.js is available: use it to load d3/LDAvis\n",
       "   require.config({paths: {d3: \"https://d3js.org/d3.v5\"}});\n",
       "   require([\"d3\"], function(d3){\n",
       "      window.d3 = d3;\n",
       "      LDAvis_load_lib(\"https://cdn.jsdelivr.net/gh/bmabey/pyLDAvis@3.4.0/pyLDAvis/js/ldavis.v3.0.0.js\", function(){\n",
       "        new LDAvis(\"#\" + \"ldavis_el4406420902650392485307789442\", ldavis_el4406420902650392485307789442_data);\n",
       "      });\n",
       "    });\n",
       "}else{\n",
       "    // require.js not available: dynamically load d3 & LDAvis\n",
       "    LDAvis_load_lib(\"https://d3js.org/d3.v5.js\", function(){\n",
       "         LDAvis_load_lib(\"https://cdn.jsdelivr.net/gh/bmabey/pyLDAvis@3.4.0/pyLDAvis/js/ldavis.v3.0.0.js\", function(){\n",
       "                 new LDAvis(\"#\" + \"ldavis_el4406420902650392485307789442\", ldavis_el4406420902650392485307789442_data);\n",
       "            })\n",
       "         });\n",
       "}\n",
       "</script>"
      ],
      "text/plain": [
       "<IPython.core.display.HTML object>"
      ]
     },
     "execution_count": 169,
     "metadata": {},
     "output_type": "execute_result"
    }
   ],
   "source": [
    "# Visualisation avec pyLDAvis.\n",
    "pyLDAvis.display(lda_display)"
   ]
  },
  {
   "cell_type": "code",
   "execution_count": 171,
   "id": "e9c75763-85b0-4434-ba5e-de29264e3ad7",
   "metadata": {},
   "outputs": [],
   "source": [
    "# Sauvegarde de la visualisation dans un fichier HTML.\n",
    "pyLDAvis.save_html(lda_display, 'lda_visualization.html')"
   ]
  },
  {
   "attachments": {},
   "cell_type": "markdown",
   "id": "89ea87f8-8ed7-4489-bbb2-8af315e1cdd1",
   "metadata": {},
   "source": [
    "Thèmes principaux : \n",
    "- Topic 1 : Développement et évaluation de modèles et traitement de données.\r\n",
    "- Topic 2 :Développement d'applications web et mobiles, gestion des états, interactions utilisateur, services et API, et programmation asynchrone. \n",
    "- Topic 3  Programmation système, gestion de la mémoire et optimisation des performances.:\n",
    "- Topic 4  Administration des serveurs et des systèmes, développement logiciel, conteneurisation et gestion des environnements (DevOps).:\n",
    "- Topic 5  Développement logiciel en Java, programmation orientée objet.:\n",
    "- Topic 6  Développement d'applications mobiles et web.:\n",
    "- Topic 7  Programmation orientée objet et manipulation de données.\n",
    "\n",
    "Difficile d'interpréter les axes PCS1 et PCS2. Peut-être que ça peut nous aider à distinguer des actions plutôt Back-end/ Front-end mais ce n'est pas très précis.\n",
    "hypothèse :\n",
    "PCS2 en bas de l'axe correspond à tout ce qui représente du DevOps plutôt Back-end.\n",
    "PCS2 en haut de l'axe on a plutôt des aspects Front-end.:"
   ]
  },
  {
   "cell_type": "markdown",
   "id": "8dde8327-b148-4fc4-bd0f-42aad8f21cc7",
   "metadata": {},
   "source": [
    "Limitation : LDA ne génère pas de tags explicites, il identifie des thématiques représentées par des groupes de mots. L'utilisation de modèles de classification supervisée pourraient être plus adaptés afin d'obtenir des tags plus spécifiques à la question posée."
   ]
  }
 ],
 "metadata": {
  "kernelspec": {
   "display_name": "Python (p8_env)",
   "language": "python",
   "name": "p8_env"
  },
  "language_info": {
   "codemirror_mode": {
    "name": "ipython",
    "version": 3
   },
   "file_extension": ".py",
   "mimetype": "text/x-python",
   "name": "python",
   "nbconvert_exporter": "python",
   "pygments_lexer": "ipython3",
   "version": "3.9.19"
  }
 },
 "nbformat": 4,
 "nbformat_minor": 5
}
